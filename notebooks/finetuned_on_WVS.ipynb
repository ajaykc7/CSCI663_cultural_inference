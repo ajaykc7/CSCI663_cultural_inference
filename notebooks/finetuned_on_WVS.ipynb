{
 "cells": [
  {
   "cell_type": "code",
   "execution_count": 2,
   "id": "fbb82edb",
   "metadata": {},
   "outputs": [],
   "source": [
    "import pandas as pd\n",
    "import numpy as np\n",
    "import scipy.stats\n",
    "import matplotlib.pyplot as plt\n",
    "import seaborn as sns\n",
    "import pickle\n",
    "from statsmodels.stats.multitest import multipletests"
   ]
  },
  {
   "cell_type": "code",
   "execution_count": 9,
   "metadata": {},
   "outputs": [],
   "source": [
    "REPLICATION = True\n",
    "\n",
    "file_path_add = ''\n",
    "if REPLICATION:\n",
    "    file_path_add = 'replication/'\n",
    "\n",
    "basemodelname = 'gpt2-large'"
   ]
  },
  {
   "cell_type": "code",
   "execution_count": 4,
   "id": "970f334b",
   "metadata": {},
   "outputs": [],
   "source": [
    "models = ['country_based','topic based','random','removed topics']\n",
    "\n",
    "#We didn't do 'removed topics' in reproduction so i excluded it\n",
    "models = ['country_based','topic based','random']"
   ]
  },
  {
   "cell_type": "code",
   "execution_count": 5,
   "id": "992a5277",
   "metadata": {},
   "outputs": [],
   "source": [
    "index = 'token_pairs'"
   ]
  },
  {
   "cell_type": "markdown",
   "id": "a10c1e42",
   "metadata": {},
   "source": [
    "## Evaluating on PEW"
   ]
  },
  {
   "cell_type": "code",
   "execution_count": 10,
   "id": "f09f79a6",
   "metadata": {},
   "outputs": [],
   "source": [
    "list_rows = []\n",
    "for model in models:\n",
    "    pew_gpt2 = pd.read_csv(f'../data/{file_path_add}pew_{basemodelname}_{model}_on_wvs_{index}.csv')\n",
    "    pew_gpt2_cultural = pew_gpt2.loc[pew_gpt2['country'] != 'universal']\n",
    "    r, p = scipy.stats.pearsonr(pew_gpt2_cultural['pew_score'], pew_gpt2_cultural['log prob difference'])\n",
    "    row = {'model':basemodelname,'train_data' : 'WVS', 'eval_data': 'PEW',\n",
    "          'strategy': model, 'r': r, 'p': p, 'n': len(pew_gpt2_cultural)}\n",
    "    list_rows.append(row)\n"
   ]
  },
  {
   "cell_type": "code",
   "execution_count": 11,
   "id": "b429d2b0",
   "metadata": {},
   "outputs": [
    {
     "data": {
      "text/html": [
       "<div>\n",
       "<style scoped>\n",
       "    .dataframe tbody tr th:only-of-type {\n",
       "        vertical-align: middle;\n",
       "    }\n",
       "\n",
       "    .dataframe tbody tr th {\n",
       "        vertical-align: top;\n",
       "    }\n",
       "\n",
       "    .dataframe thead th {\n",
       "        text-align: right;\n",
       "    }\n",
       "</style>\n",
       "<table border=\"1\" class=\"dataframe\">\n",
       "  <thead>\n",
       "    <tr style=\"text-align: right;\">\n",
       "      <th></th>\n",
       "      <th>model</th>\n",
       "      <th>train_data</th>\n",
       "      <th>eval_data</th>\n",
       "      <th>strategy</th>\n",
       "      <th>r</th>\n",
       "      <th>p</th>\n",
       "      <th>n</th>\n",
       "    </tr>\n",
       "  </thead>\n",
       "  <tbody>\n",
       "    <tr>\n",
       "      <th>0</th>\n",
       "      <td>gpt2-large</td>\n",
       "      <td>WVS</td>\n",
       "      <td>PEW</td>\n",
       "      <td>country_based</td>\n",
       "      <td>0.484518</td>\n",
       "      <td>2.704889e-19</td>\n",
       "      <td>312</td>\n",
       "    </tr>\n",
       "    <tr>\n",
       "      <th>1</th>\n",
       "      <td>gpt2-large</td>\n",
       "      <td>WVS</td>\n",
       "      <td>PEW</td>\n",
       "      <td>topic based</td>\n",
       "      <td>0.597750</td>\n",
       "      <td>3.933223e-31</td>\n",
       "      <td>312</td>\n",
       "    </tr>\n",
       "    <tr>\n",
       "      <th>2</th>\n",
       "      <td>gpt2-large</td>\n",
       "      <td>WVS</td>\n",
       "      <td>PEW</td>\n",
       "      <td>random</td>\n",
       "      <td>0.537835</td>\n",
       "      <td>2.591639e-24</td>\n",
       "      <td>312</td>\n",
       "    </tr>\n",
       "  </tbody>\n",
       "</table>\n",
       "</div>"
      ],
      "text/plain": [
       "        model train_data eval_data       strategy         r             p    n\n",
       "0  gpt2-large        WVS       PEW  country_based  0.484518  2.704889e-19  312\n",
       "1  gpt2-large        WVS       PEW    topic based  0.597750  3.933223e-31  312\n",
       "2  gpt2-large        WVS       PEW         random  0.537835  2.591639e-24  312"
      ]
     },
     "execution_count": 11,
     "metadata": {},
     "output_type": "execute_result"
    }
   ],
   "source": [
    "df = pd.DataFrame(list_rows)\n",
    "df['p'] = multipletests(df['p'], method = 'bonferroni', alpha = 0.5)[1]\n",
    "df"
   ]
  },
  {
   "cell_type": "markdown",
   "id": "72eba85a",
   "metadata": {},
   "source": [
    "## Evaluating on WVS"
   ]
  },
  {
   "cell_type": "markdown",
   "id": "c9875920",
   "metadata": {},
   "source": [
    "We remove the seen topic-country pairs from evaluation set"
   ]
  },
  {
   "cell_type": "code",
   "execution_count": 12,
   "id": "2227c745",
   "metadata": {},
   "outputs": [],
   "source": [
    "def included_function(pairs):\n",
    "    def func(row):\n",
    "        return (row['country'], row['topic']) in pairs\n",
    "    return func"
   ]
  },
  {
   "cell_type": "code",
   "execution_count": 32,
   "id": "b4c0fee3",
   "metadata": {},
   "outputs": [],
   "source": [
    "all_eval_pairs = pickle.load(open(f'../data/{file_path_add}wvs_eval_pairs.p', 'rb'))\n",
    "list_rows = []\n",
    "for model in models:\n",
    "    eval_pairs = all_eval_pairs[model]\n",
    "    if model == 'topic based':\n",
    "        model_refined = 'topic_based'\n",
    "    elif model == 'removed topics':\n",
    "        model_refined = 'removed_topic'\n",
    "    else:\n",
    "        model_refined = model\n",
    "    wvs_gpt2 = pd.read_csv(f'../data/{file_path_add}wvs_w7_{basemodelname}_{model}_on_wvs_{index}_in.csv')\n",
    "    wvs_gpt2_cultural = wvs_gpt2.loc[wvs_gpt2['country'] != 'universal']\n",
    "    wvs_gpt2_cultural = wvs_gpt2_cultural.loc[~pd.isna(wvs_gpt2_cultural['wvs_score'])]\n",
    "    \n",
    "    wvs_gpt2_cultural['in_eval'] = wvs_gpt2_cultural.apply(included_function(eval_pairs), axis = 1)\n",
    "    wvs_gpt2_cultural = wvs_gpt2_cultural.loc[wvs_gpt2_cultural.in_eval == True]\n",
    "    \n",
    "    r, p = scipy.stats.pearsonr(wvs_gpt2_cultural['wvs_score'], wvs_gpt2_cultural['log prob difference'])\n",
    "    row = {'model':basemodelname,'train_data' : 'WVS', 'eval_data': 'WVS',\n",
    "          'strategy': model, 'r': r, 'p': p, 'n': len(wvs_gpt2_cultural)}\n",
    "    list_rows.append(row)\n",
    "\n"
   ]
  },
  {
   "cell_type": "code",
   "execution_count": 33,
   "id": "22e2a2cf",
   "metadata": {},
   "outputs": [
    {
     "data": {
      "text/html": [
       "<div>\n",
       "<style scoped>\n",
       "    .dataframe tbody tr th:only-of-type {\n",
       "        vertical-align: middle;\n",
       "    }\n",
       "\n",
       "    .dataframe tbody tr th {\n",
       "        vertical-align: top;\n",
       "    }\n",
       "\n",
       "    .dataframe thead th {\n",
       "        text-align: right;\n",
       "    }\n",
       "</style>\n",
       "<table border=\"1\" class=\"dataframe\">\n",
       "  <thead>\n",
       "    <tr style=\"text-align: right;\">\n",
       "      <th></th>\n",
       "      <th>model</th>\n",
       "      <th>train_data</th>\n",
       "      <th>eval_data</th>\n",
       "      <th>strategy</th>\n",
       "      <th>r</th>\n",
       "      <th>p</th>\n",
       "      <th>n</th>\n",
       "    </tr>\n",
       "  </thead>\n",
       "  <tbody>\n",
       "    <tr>\n",
       "      <th>0</th>\n",
       "      <td>gpt2-large</td>\n",
       "      <td>WVS</td>\n",
       "      <td>WVS</td>\n",
       "      <td>country_based</td>\n",
       "      <td>-0.229252</td>\n",
       "      <td>1.000000</td>\n",
       "      <td>19</td>\n",
       "    </tr>\n",
       "    <tr>\n",
       "      <th>1</th>\n",
       "      <td>gpt2-large</td>\n",
       "      <td>WVS</td>\n",
       "      <td>WVS</td>\n",
       "      <td>topic based</td>\n",
       "      <td>0.762381</td>\n",
       "      <td>0.002854</td>\n",
       "      <td>15</td>\n",
       "    </tr>\n",
       "    <tr>\n",
       "      <th>2</th>\n",
       "      <td>gpt2-large</td>\n",
       "      <td>WVS</td>\n",
       "      <td>WVS</td>\n",
       "      <td>random</td>\n",
       "      <td>0.856039</td>\n",
       "      <td>0.000281</td>\n",
       "      <td>14</td>\n",
       "    </tr>\n",
       "  </tbody>\n",
       "</table>\n",
       "</div>"
      ],
      "text/plain": [
       "        model train_data eval_data       strategy         r         p   n\n",
       "0  gpt2-large        WVS       WVS  country_based -0.229252  1.000000  19\n",
       "1  gpt2-large        WVS       WVS    topic based  0.762381  0.002854  15\n",
       "2  gpt2-large        WVS       WVS         random  0.856039  0.000281  14"
      ]
     },
     "execution_count": 33,
     "metadata": {},
     "output_type": "execute_result"
    }
   ],
   "source": [
    "df = pd.DataFrame(list_rows)\n",
    "df['p'] = multipletests(df['p'], method = 'bonferroni', alpha = 0.5)[1]\n",
    "df"
   ]
  },
  {
   "cell_type": "markdown",
   "id": "fb0b723f",
   "metadata": {},
   "source": [
    "## Variation study"
   ]
  },
  {
   "cell_type": "markdown",
   "id": "b92face4",
   "metadata": {},
   "source": [
    "### WVS"
   ]
  },
  {
   "cell_type": "code",
   "execution_count": 34,
   "id": "c033c79c",
   "metadata": {},
   "outputs": [],
   "source": [
    "topics = ['claiming government benefits to which you are not entitled',\n",
    " 'avoiding a fare on public transport',\n",
    " 'stealing property',\n",
    " 'cheating on taxes',\n",
    " 'someone accepting a bribe in the course of their duties',\n",
    " 'homosexuality',\n",
    " 'prostitution',\n",
    " 'abortion',\n",
    " 'divorce',\n",
    " 'sex before marriage',\n",
    " 'suicide',\n",
    " 'euthanasia',\n",
    " 'for a man to beat his wife',\n",
    " 'parents beating children',\n",
    " 'violence against other people',\n",
    " 'terrorism as a political, ideological or religious mean',\n",
    " 'having casual sex',\n",
    " 'political violence',\n",
    " 'death penalty']"
   ]
  },
  {
   "cell_type": "code",
   "execution_count": 37,
   "id": "a7c12238",
   "metadata": {},
   "outputs": [],
   "source": [
    "variation_rows = []\n",
    "\n",
    "for i, model in enumerate(models):\n",
    "\n",
    "    wvs_gpt2 = pd.read_csv(f'../data/{file_path_add}wvs_w7_{basemodelname}_{model}_on_wvs_{index}_in.csv')\n",
    "    wvs_gpt2_cultural = wvs_gpt2.loc[wvs_gpt2['country'] != 'universal']\n",
    "    df = wvs_gpt2_cultural.loc[~pd.isna(wvs_gpt2_cultural['wvs_score'])]\n",
    "\n",
    "    for t in topics:\n",
    "\n",
    "        pew_gpt2_t = df.loc[df.topic == t]\n",
    "        user_var = np.var(pew_gpt2_t['wvs_score'])\n",
    "        model_var = np.var(pew_gpt2_t['log prob difference'])\n",
    "        row = {'model': model, 'user variation': user_var, 'model variation': model_var, 'topic': t}\n",
    "        variation_rows.append(row)\n",
    "\n",
    "df = pd.DataFrame(variation_rows)\n",
    "\n",
    "   \n",
    "\n",
    "\n",
    "        "
   ]
  },
  {
   "cell_type": "code",
   "execution_count": 38,
   "id": "10eb4611",
   "metadata": {},
   "outputs": [],
   "source": [
    "list_rows = []\n",
    "for i, model in enumerate(models):\n",
    "    \n",
    "    model_df = df.loc[df.model == model] \n",
    "    r, p = scipy.stats.pearsonr(model_df['model variation'],model_df['user variation'])\n",
    "    \n",
    "    row = {'strategy': model, 'r': r, 'p':p,\n",
    "          'n': len(model_df)}\n",
    "    list_rows.append(row)"
   ]
  },
  {
   "cell_type": "code",
   "execution_count": 39,
   "id": "c19affbb",
   "metadata": {},
   "outputs": [
    {
     "data": {
      "text/html": [
       "<div>\n",
       "<style scoped>\n",
       "    .dataframe tbody tr th:only-of-type {\n",
       "        vertical-align: middle;\n",
       "    }\n",
       "\n",
       "    .dataframe tbody tr th {\n",
       "        vertical-align: top;\n",
       "    }\n",
       "\n",
       "    .dataframe thead th {\n",
       "        text-align: right;\n",
       "    }\n",
       "</style>\n",
       "<table border=\"1\" class=\"dataframe\">\n",
       "  <thead>\n",
       "    <tr style=\"text-align: right;\">\n",
       "      <th></th>\n",
       "      <th>strategy</th>\n",
       "      <th>r</th>\n",
       "      <th>p</th>\n",
       "      <th>n</th>\n",
       "    </tr>\n",
       "  </thead>\n",
       "  <tbody>\n",
       "    <tr>\n",
       "      <th>0</th>\n",
       "      <td>country_based</td>\n",
       "      <td>0.246306</td>\n",
       "      <td>0.928163</td>\n",
       "      <td>19</td>\n",
       "    </tr>\n",
       "    <tr>\n",
       "      <th>1</th>\n",
       "      <td>topic based</td>\n",
       "      <td>0.498158</td>\n",
       "      <td>0.089864</td>\n",
       "      <td>19</td>\n",
       "    </tr>\n",
       "    <tr>\n",
       "      <th>2</th>\n",
       "      <td>random</td>\n",
       "      <td>0.845622</td>\n",
       "      <td>0.000015</td>\n",
       "      <td>19</td>\n",
       "    </tr>\n",
       "  </tbody>\n",
       "</table>\n",
       "</div>"
      ],
      "text/plain": [
       "        strategy         r         p   n\n",
       "0  country_based  0.246306  0.928163  19\n",
       "1    topic based  0.498158  0.089864  19\n",
       "2         random  0.845622  0.000015  19"
      ]
     },
     "execution_count": 39,
     "metadata": {},
     "output_type": "execute_result"
    }
   ],
   "source": [
    "df = pd.DataFrame(list_rows)\n",
    "df['p'] = multipletests(df['p'], method = 'bonferroni', alpha = 0.5)[1]\n",
    "df"
   ]
  },
  {
   "cell_type": "markdown",
   "id": "3b1f1de8",
   "metadata": {},
   "source": [
    "## PEW"
   ]
  },
  {
   "cell_type": "code",
   "execution_count": 40,
   "id": "bccb2184",
   "metadata": {},
   "outputs": [],
   "source": [
    "pew_topics = {'using contraceptives':['using contraceptives', 'use contraceptives'],\n",
    "           'getting a divorce': ['getting a divorce','get a divorce'], \n",
    "           'having an abortion': ['having an abortion','have an abortion'],\n",
    "           'homosexuality': ['homosexuality','be homosexual'], \n",
    "           'drinking alcohol': ['drinking alcohol','drink alcohol'],\n",
    "           'married people having an affair' : ['married people having an affair', 'have an extramarital affair'],\n",
    "            'gambling': ['gambling','gamble'],\n",
    "       'sex between unmarried adults': [ 'sex between unmarried adults','have sex between unmarried adults']\n",
    "                         }\n",
    "\n",
    "pew_topics_list = list(pew_topics.keys())\n",
    "\n",
    "variation_rows = []\n",
    "\n",
    "for i, model in enumerate(models):\n",
    "\n",
    "    pew_gpt2 = pd.read_csv(f'../data/{file_path_add}pew_{basemodelname}_{model}_on_wvs_{index}.csv')\n",
    "    pew_gpt2_cultural = pew_gpt2.loc[wvs_gpt2['country'] != 'universal']\n",
    "    df = pew_gpt2_cultural.loc[~pd.isna(pew_gpt2_cultural['pew_score'])]\n",
    "\n",
    "    for t in pew_topics:\n",
    "\n",
    "        pew_gpt2_t = df.loc[df.topic.isin(pew_topics[t])]\n",
    "        user_var = np.var(pew_gpt2_t['pew_score'])\n",
    "        model_var = np.var(pew_gpt2_t['log prob difference'])\n",
    "        row = {'model': model, 'user variation': user_var, 'model variation': model_var, 'topic': t}\n",
    "        variation_rows.append(row)\n",
    "\n",
    "df = pd.DataFrame(variation_rows)\n",
    "\n",
    "   \n",
    "\n"
   ]
  },
  {
   "cell_type": "code",
   "execution_count": 41,
   "id": "5b6fd135",
   "metadata": {},
   "outputs": [],
   "source": [
    "list_rows = [ ]\n",
    "for i, model in enumerate(models):\n",
    "    \n",
    "    model_df = df.loc[df.model == model]\n",
    "    \n",
    "    r, p = scipy.stats.pearsonr(model_df['model variation'],model_df['user variation'])\n",
    "    \n",
    "    row = {'strategy': model, 'r': r, 'p':p,\n",
    "          'n': len(model_df)}\n",
    "    list_rows.append(row)\n"
   ]
  },
  {
   "cell_type": "code",
   "execution_count": 42,
   "id": "b17be0d6",
   "metadata": {},
   "outputs": [
    {
     "data": {
      "text/html": [
       "<div>\n",
       "<style scoped>\n",
       "    .dataframe tbody tr th:only-of-type {\n",
       "        vertical-align: middle;\n",
       "    }\n",
       "\n",
       "    .dataframe tbody tr th {\n",
       "        vertical-align: top;\n",
       "    }\n",
       "\n",
       "    .dataframe thead th {\n",
       "        text-align: right;\n",
       "    }\n",
       "</style>\n",
       "<table border=\"1\" class=\"dataframe\">\n",
       "  <thead>\n",
       "    <tr style=\"text-align: right;\">\n",
       "      <th></th>\n",
       "      <th>strategy</th>\n",
       "      <th>r</th>\n",
       "      <th>p</th>\n",
       "      <th>n</th>\n",
       "    </tr>\n",
       "  </thead>\n",
       "  <tbody>\n",
       "    <tr>\n",
       "      <th>0</th>\n",
       "      <td>country_based</td>\n",
       "      <td>0.815737</td>\n",
       "      <td>0.040676</td>\n",
       "      <td>8</td>\n",
       "    </tr>\n",
       "    <tr>\n",
       "      <th>1</th>\n",
       "      <td>topic based</td>\n",
       "      <td>0.722977</td>\n",
       "      <td>0.128152</td>\n",
       "      <td>8</td>\n",
       "    </tr>\n",
       "    <tr>\n",
       "      <th>2</th>\n",
       "      <td>random</td>\n",
       "      <td>0.696389</td>\n",
       "      <td>0.165007</td>\n",
       "      <td>8</td>\n",
       "    </tr>\n",
       "  </tbody>\n",
       "</table>\n",
       "</div>"
      ],
      "text/plain": [
       "        strategy         r         p  n\n",
       "0  country_based  0.815737  0.040676  8\n",
       "1    topic based  0.722977  0.128152  8\n",
       "2         random  0.696389  0.165007  8"
      ]
     },
     "execution_count": 42,
     "metadata": {},
     "output_type": "execute_result"
    }
   ],
   "source": [
    "df = pd.DataFrame(list_rows)\n",
    "df['p'] = multipletests(df['p'], method = 'bonferroni', alpha = 0.5)[1]\n",
    "df"
   ]
  },
  {
   "cell_type": "code",
   "execution_count": null,
   "id": "53fd2059",
   "metadata": {},
   "outputs": [],
   "source": []
  }
 ],
 "metadata": {
  "kernelspec": {
   "display_name": "Python 3 (ipykernel)",
   "language": "python",
   "name": "python3"
  },
  "language_info": {
   "codemirror_mode": {
    "name": "ipython",
    "version": 3
   },
   "file_extension": ".py",
   "mimetype": "text/x-python",
   "name": "python",
   "nbconvert_exporter": "python",
   "pygments_lexer": "ipython3",
   "version": "3.8.18"
  }
 },
 "nbformat": 4,
 "nbformat_minor": 5
}
