{
 "cells": [
  {
   "cell_type": "code",
   "execution_count": 25,
   "id": "59c8b9e7",
   "metadata": {},
   "outputs": [],
   "source": [
    "import pandas as pd\n",
    "import numpy as np\n",
    "import scipy.stats\n",
    "import matplotlib.pyplot as plt\n",
    "import seaborn as sns\n",
    "import pickle\n",
    "from statsmodels.stats.multitest import multipletests\n"
   ]
  },
  {
   "cell_type": "code",
   "execution_count": 26,
   "metadata": {},
   "outputs": [],
   "source": [
    "REPLICATION = True\n",
    "\n",
    "file_path_add = ''\n",
    "if REPLICATION:\n",
    "    file_path_add = 'replication/'"
   ]
  },
  {
   "cell_type": "code",
   "execution_count": 27,
   "id": "8e7453dd",
   "metadata": {},
   "outputs": [],
   "source": [
    "models = ['country_based','topic based','random']\n"
   ]
  },
  {
   "cell_type": "code",
   "execution_count": 28,
   "id": "8e14a415",
   "metadata": {},
   "outputs": [],
   "source": [
    "index = 'token_pairs'"
   ]
  },
  {
   "cell_type": "markdown",
   "id": "910aecf9",
   "metadata": {},
   "source": [
    "## Evaluating on WVS"
   ]
  },
  {
   "cell_type": "code",
   "execution_count": 30,
   "id": "b79dcfc9",
   "metadata": {},
   "outputs": [],
   "source": [
    "list_rows = []\n",
    "for model in models:\n",
    "    pew_gpt2 = pd.read_csv(f'../data/{file_path_add}wvs_w7_gpt2_{model}_on_pew_{index}_in.csv')\n",
    "    pew_gpt2_cultural = pew_gpt2.loc[pew_gpt2['country'] != 'universal']\n",
    "    pew_gpt2_cultural = pew_gpt2_cultural.loc[~pd.isna(pew_gpt2_cultural['wvs_score'])]\n",
    "    r, p = (scipy.stats.pearsonr(pew_gpt2_cultural['wvs_score'], pew_gpt2_cultural['log prob difference']))\n",
    "    row = {'model':'gpt2','train_data' : 'PEW', 'eval_data': 'WVS',\n",
    "          'strategy': model, 'r': r, 'p': p, 'n': len(pew_gpt2_cultural)}\n",
    "    list_rows.append(row)\n"
   ]
  },
  {
   "cell_type": "code",
   "execution_count": 31,
   "id": "b3e2ae32",
   "metadata": {},
   "outputs": [
    {
     "data": {
      "text/html": [
       "<div>\n",
       "<style scoped>\n",
       "    .dataframe tbody tr th:only-of-type {\n",
       "        vertical-align: middle;\n",
       "    }\n",
       "\n",
       "    .dataframe tbody tr th {\n",
       "        vertical-align: top;\n",
       "    }\n",
       "\n",
       "    .dataframe thead th {\n",
       "        text-align: right;\n",
       "    }\n",
       "</style>\n",
       "<table border=\"1\" class=\"dataframe\">\n",
       "  <thead>\n",
       "    <tr style=\"text-align: right;\">\n",
       "      <th></th>\n",
       "      <th>model</th>\n",
       "      <th>train_data</th>\n",
       "      <th>eval_data</th>\n",
       "      <th>strategy</th>\n",
       "      <th>r</th>\n",
       "      <th>p</th>\n",
       "      <th>n</th>\n",
       "    </tr>\n",
       "  </thead>\n",
       "  <tbody>\n",
       "    <tr>\n",
       "      <th>0</th>\n",
       "      <td>gpt2</td>\n",
       "      <td>PEW</td>\n",
       "      <td>WVS</td>\n",
       "      <td>country_based</td>\n",
       "      <td>0.328298</td>\n",
       "      <td>8.829486e-27</td>\n",
       "      <td>1028</td>\n",
       "    </tr>\n",
       "    <tr>\n",
       "      <th>1</th>\n",
       "      <td>gpt2</td>\n",
       "      <td>PEW</td>\n",
       "      <td>WVS</td>\n",
       "      <td>topic based</td>\n",
       "      <td>0.451231</td>\n",
       "      <td>3.127042e-52</td>\n",
       "      <td>1028</td>\n",
       "    </tr>\n",
       "    <tr>\n",
       "      <th>2</th>\n",
       "      <td>gpt2</td>\n",
       "      <td>PEW</td>\n",
       "      <td>WVS</td>\n",
       "      <td>random</td>\n",
       "      <td>0.463275</td>\n",
       "      <td>2.404414e-55</td>\n",
       "      <td>1028</td>\n",
       "    </tr>\n",
       "  </tbody>\n",
       "</table>\n",
       "</div>"
      ],
      "text/plain": [
       "  model train_data eval_data       strategy         r             p     n\n",
       "0  gpt2        PEW       WVS  country_based  0.328298  8.829486e-27  1028\n",
       "1  gpt2        PEW       WVS    topic based  0.451231  3.127042e-52  1028\n",
       "2  gpt2        PEW       WVS         random  0.463275  2.404414e-55  1028"
      ]
     },
     "execution_count": 31,
     "metadata": {},
     "output_type": "execute_result"
    }
   ],
   "source": [
    "df = pd.DataFrame(list_rows)\n",
    "df['p'] = multipletests(df['p'], method = 'bonferroni', alpha = 0.5)[1]\n",
    "df"
   ]
  },
  {
   "cell_type": "markdown",
   "id": "2f792d18",
   "metadata": {},
   "source": [
    "## Evaluating on PEW\n",
    "we have to remove seen pairs from evaluation set"
   ]
  },
  {
   "cell_type": "code",
   "execution_count": 32,
   "id": "637b9ca1",
   "metadata": {},
   "outputs": [],
   "source": [
    "pew_topics = {'use contraceptives':'using contraceptives',\n",
    "           'get a divorce':'getting a divorce', \n",
    "            'have an abortion': 'having an abortion',\n",
    "            'be homosexual': 'homosexuality', \n",
    "           'drink alcohol': 'drinking alcohol',\n",
    "           'have an extramarital affair': 'married people having an affair' ,\n",
    "             'gamble': 'gambling',\n",
    "       'have sex between unmarried adults':'sex between unmarried adults'\n",
    "                         }\n",
    "pew_topics_list = list(pew_topics.keys())\n",
    "\n"
   ]
  },
  {
   "cell_type": "code",
   "execution_count": 33,
   "id": "023c6d3d",
   "metadata": {},
   "outputs": [],
   "source": [
    "def included_function(pairs):\n",
    "    def func(row):\n",
    "        return (row['country'], pew_topics[row['topic']]) in pairs\n",
    "    return func"
   ]
  },
  {
   "cell_type": "code",
   "execution_count": 35,
   "id": "42a995e9",
   "metadata": {},
   "outputs": [],
   "source": [
    "all_eval_pairs = pickle.load(open(f'../data/{file_path_add}pew_eval_pairs.p', 'rb'))\n",
    "list_rows = []\n",
    "for model in models:\n",
    "    eval_pairs = all_eval_pairs[model]\n",
    "    pew_gpt2 = pd.read_csv(f'../data/{file_path_add}pew_gpt2_{model}_on_pew_{index}.csv')\n",
    "    pew_gpt2_cultural = pew_gpt2.loc[pew_gpt2['country'] != 'universal']\n",
    "    \n",
    "    pew_gpt2_cultural = pew_gpt2_cultural.loc[~pd.isna(pew_gpt2_cultural['pew_score'])]\n",
    "    pew_gpt2_cultural['in_eval'] = pew_gpt2_cultural.apply(included_function(eval_pairs), axis = 1)\n",
    "    pew_gpt2_cultural = pew_gpt2_cultural.loc[pew_gpt2_cultural.in_eval == True]\n",
    "\n",
    "    r, p = scipy.stats.pearsonr(pew_gpt2_cultural['pew_score'], pew_gpt2_cultural['log prob difference'])\n",
    "    row = {'model':'gpt2','train_data' : 'PEW', 'eval_data': 'PEW',\n",
    "          'strategy': model, 'r': r, 'p': p, 'n': len(pew_gpt2_cultural)}\n",
    "    list_rows.append(row)"
   ]
  },
  {
   "cell_type": "code",
   "execution_count": 36,
   "id": "c8abc499",
   "metadata": {},
   "outputs": [
    {
     "data": {
      "text/html": [
       "<div>\n",
       "<style scoped>\n",
       "    .dataframe tbody tr th:only-of-type {\n",
       "        vertical-align: middle;\n",
       "    }\n",
       "\n",
       "    .dataframe tbody tr th {\n",
       "        vertical-align: top;\n",
       "    }\n",
       "\n",
       "    .dataframe thead th {\n",
       "        text-align: right;\n",
       "    }\n",
       "</style>\n",
       "<table border=\"1\" class=\"dataframe\">\n",
       "  <thead>\n",
       "    <tr style=\"text-align: right;\">\n",
       "      <th></th>\n",
       "      <th>model</th>\n",
       "      <th>train_data</th>\n",
       "      <th>eval_data</th>\n",
       "      <th>strategy</th>\n",
       "      <th>r</th>\n",
       "      <th>p</th>\n",
       "      <th>n</th>\n",
       "    </tr>\n",
       "  </thead>\n",
       "  <tbody>\n",
       "    <tr>\n",
       "      <th>0</th>\n",
       "      <td>gpt2</td>\n",
       "      <td>PEW</td>\n",
       "      <td>PEW</td>\n",
       "      <td>country_based</td>\n",
       "      <td>0.737458</td>\n",
       "      <td>1.097395e-11</td>\n",
       "      <td>64</td>\n",
       "    </tr>\n",
       "    <tr>\n",
       "      <th>1</th>\n",
       "      <td>gpt2</td>\n",
       "      <td>PEW</td>\n",
       "      <td>PEW</td>\n",
       "      <td>topic based</td>\n",
       "      <td>0.683887</td>\n",
       "      <td>1.548872e-11</td>\n",
       "      <td>78</td>\n",
       "    </tr>\n",
       "    <tr>\n",
       "      <th>2</th>\n",
       "      <td>gpt2</td>\n",
       "      <td>PEW</td>\n",
       "      <td>PEW</td>\n",
       "      <td>random</td>\n",
       "      <td>0.840507</td>\n",
       "      <td>2.096341e-17</td>\n",
       "      <td>63</td>\n",
       "    </tr>\n",
       "  </tbody>\n",
       "</table>\n",
       "</div>"
      ],
      "text/plain": [
       "  model train_data eval_data       strategy         r             p   n\n",
       "0  gpt2        PEW       PEW  country_based  0.737458  1.097395e-11  64\n",
       "1  gpt2        PEW       PEW    topic based  0.683887  1.548872e-11  78\n",
       "2  gpt2        PEW       PEW         random  0.840507  2.096341e-17  63"
      ]
     },
     "execution_count": 36,
     "metadata": {},
     "output_type": "execute_result"
    }
   ],
   "source": [
    "df = pd.DataFrame(list_rows)\n",
    "df['p'] = multipletests(df['p'], method = 'bonferroni', alpha = 0.5)[1]\n",
    "df"
   ]
  },
  {
   "cell_type": "markdown",
   "id": "d8e0d8ec",
   "metadata": {},
   "source": [
    "# Variation study"
   ]
  },
  {
   "cell_type": "markdown",
   "id": "ed8b652c",
   "metadata": {},
   "source": [
    "### WVS"
   ]
  },
  {
   "cell_type": "code",
   "execution_count": 37,
   "id": "aae2f674",
   "metadata": {},
   "outputs": [],
   "source": [
    "topics = ['claiming government benefits to which you are not entitled',\n",
    " 'avoiding a fare on public transport',\n",
    " 'stealing property',\n",
    " 'cheating on taxes',\n",
    " 'someone accepting a bribe in the course of their duties',\n",
    " 'homosexuality',\n",
    " 'prostitution',\n",
    " 'abortion',\n",
    " 'divorce',\n",
    " 'sex before marriage',\n",
    " 'suicide',\n",
    " 'euthanasia',\n",
    " 'for a man to beat his wife',\n",
    " 'parents beating children',\n",
    " 'violence against other people',\n",
    " 'terrorism as a political, ideological or religious mean',\n",
    " 'having casual sex',\n",
    " 'political violence',\n",
    " 'death penalty']"
   ]
  },
  {
   "cell_type": "code",
   "execution_count": 38,
   "id": "dc07647a",
   "metadata": {},
   "outputs": [],
   "source": [
    "variation_rows = []\n",
    "\n",
    "for i, model in enumerate(models):\n",
    "    if model == 'topic based':\n",
    "        model_refined = 'topic_based'\n",
    "    elif model == 'removed topics':\n",
    "        model_refined = 'removed_topic'\n",
    "    else:\n",
    "        model_refined = model\n",
    "    wvs_gpt2 = pd.read_csv(f'../data/{file_path_add}wvs_w7_gpt2_{model}_on_pew_{index}_in.csv')\n",
    "    wvs_gpt2_cultural = wvs_gpt2.loc[wvs_gpt2['country'] != 'universal']\n",
    "    df = wvs_gpt2_cultural.loc[~pd.isna(wvs_gpt2_cultural['wvs_score'])]\n",
    "\n",
    "    for t in topics:\n",
    "\n",
    "        pew_gpt2_t = df.loc[df.topic == t]\n",
    "        user_var = np.var(pew_gpt2_t['wvs_score'])\n",
    "        model_var = np.var(pew_gpt2_t['log prob difference'])\n",
    "        row = {'model': model, 'user variation': user_var, 'model variation': model_var, 'topic': t}\n",
    "        variation_rows.append(row)\n",
    "\n",
    "df = pd.DataFrame(variation_rows)\n",
    "\n",
    "   \n"
   ]
  },
  {
   "cell_type": "code",
   "execution_count": 39,
   "id": "38eab6fb",
   "metadata": {},
   "outputs": [],
   "source": [
    "list_rows = []\n",
    "for i, model in enumerate(models):\n",
    "    \n",
    "    model_df = df.loc[df.model == model] \n",
    "    r, p = scipy.stats.pearsonr(model_df['model variation'],model_df['user variation'])\n",
    "    \n",
    "    row = {'strategy': model, 'r': r, 'p':p,\n",
    "          'n': len(model_df)}\n",
    "    list_rows.append(row)"
   ]
  },
  {
   "cell_type": "code",
   "execution_count": 40,
   "id": "22464cb3",
   "metadata": {},
   "outputs": [
    {
     "data": {
      "text/html": [
       "<div>\n",
       "<style scoped>\n",
       "    .dataframe tbody tr th:only-of-type {\n",
       "        vertical-align: middle;\n",
       "    }\n",
       "\n",
       "    .dataframe tbody tr th {\n",
       "        vertical-align: top;\n",
       "    }\n",
       "\n",
       "    .dataframe thead th {\n",
       "        text-align: right;\n",
       "    }\n",
       "</style>\n",
       "<table border=\"1\" class=\"dataframe\">\n",
       "  <thead>\n",
       "    <tr style=\"text-align: right;\">\n",
       "      <th></th>\n",
       "      <th>strategy</th>\n",
       "      <th>r</th>\n",
       "      <th>p</th>\n",
       "      <th>n</th>\n",
       "    </tr>\n",
       "  </thead>\n",
       "  <tbody>\n",
       "    <tr>\n",
       "      <th>0</th>\n",
       "      <td>country_based</td>\n",
       "      <td>0.930065</td>\n",
       "      <td>2.470066e-08</td>\n",
       "      <td>19</td>\n",
       "    </tr>\n",
       "    <tr>\n",
       "      <th>1</th>\n",
       "      <td>topic based</td>\n",
       "      <td>0.928679</td>\n",
       "      <td>2.904522e-08</td>\n",
       "      <td>19</td>\n",
       "    </tr>\n",
       "    <tr>\n",
       "      <th>2</th>\n",
       "      <td>random</td>\n",
       "      <td>0.952398</td>\n",
       "      <td>1.013767e-09</td>\n",
       "      <td>19</td>\n",
       "    </tr>\n",
       "  </tbody>\n",
       "</table>\n",
       "</div>"
      ],
      "text/plain": [
       "        strategy         r             p   n\n",
       "0  country_based  0.930065  2.470066e-08  19\n",
       "1    topic based  0.928679  2.904522e-08  19\n",
       "2         random  0.952398  1.013767e-09  19"
      ]
     },
     "execution_count": 40,
     "metadata": {},
     "output_type": "execute_result"
    }
   ],
   "source": [
    "df = pd.DataFrame(list_rows)\n",
    "df['p'] = multipletests(df['p'], method = 'bonferroni', alpha = 0.5)[1]\n",
    "df"
   ]
  },
  {
   "cell_type": "markdown",
   "id": "1d784efa",
   "metadata": {},
   "source": [
    "## PEW"
   ]
  },
  {
   "cell_type": "code",
   "execution_count": 41,
   "id": "e4dd6547",
   "metadata": {},
   "outputs": [],
   "source": [
    "pew_topics = {'using contraceptives':['using contraceptives', 'use contraceptives'],\n",
    "           'getting a divorce': ['getting a divorce','get a divorce'], \n",
    "           'having an abortion': ['having an abortion','have an abortion'],\n",
    "           'homosexuality': ['homosexuality','be homosexual'], \n",
    "           'drinking alcohol': ['drinking alcohol','drink alcohol'],\n",
    "           'married people having an affair' : ['married people having an affair', 'have an extramarital affair'],\n",
    "            'gambling': ['gambling','gamble'],\n",
    "       'sex between unmarried adults': [ 'sex between unmarried adults','have sex between unmarried adults']\n",
    "                         }\n",
    "\n",
    "pew_topics_list = list(pew_topics.keys())\n",
    "\n",
    "variation_rows = []\n",
    "\n",
    "for i, model in enumerate(models):\n",
    "    if model == 'topic based':\n",
    "        model_refined = 'topic_based'\n",
    "    elif model == 'removed topics':\n",
    "        model_refined = 'removed_topic'\n",
    "    else:\n",
    "        model_refined = model\n",
    "    pew_gpt2 = pd.read_csv(f'../data/{file_path_add}pew_gpt2_{model}_on_pew_{index}.csv')\n",
    "    pew_gpt2_cultural = pew_gpt2.loc[wvs_gpt2['country'] != 'universal']\n",
    "    df = pew_gpt2_cultural.loc[~pd.isna(pew_gpt2_cultural['pew_score'])]\n",
    "\n",
    "    for t in pew_topics:\n",
    "\n",
    "        pew_gpt2_t = df.loc[df.topic.isin(pew_topics[t])]\n",
    "        user_var = np.var(pew_gpt2_t['pew_score'])\n",
    "        model_var = np.var(pew_gpt2_t['log prob difference'])\n",
    "        row = {'model': model, 'user variation': user_var, 'model variation': model_var, 'topic': t}\n",
    "        variation_rows.append(row)\n",
    "\n",
    "df = pd.DataFrame(variation_rows)\n",
    "\n",
    "   \n",
    "\n",
    "\n"
   ]
  },
  {
   "cell_type": "code",
   "execution_count": 42,
   "id": "e42ff9ab",
   "metadata": {},
   "outputs": [],
   "source": [
    "list_rows = []\n",
    "for i, model in enumerate(models):\n",
    "    \n",
    "    model_df = df.loc[df.model == model]\n",
    "    \n",
    "\n",
    "    slope, intercept, r, p, std_err =\\\n",
    "    scipy.stats.linregress(model_df['model variation'],model_df['user variation'])\n",
    "    \n",
    "    \n",
    "    row = {'strategy': model, 'r': r, 'p':p,'slope':slope,\n",
    "          'n': len(model_df)}\n",
    "    list_rows.append(row)\n",
    "    \n"
   ]
  },
  {
   "cell_type": "code",
   "execution_count": 43,
   "id": "33453dff",
   "metadata": {},
   "outputs": [
    {
     "data": {
      "text/html": [
       "<div>\n",
       "<style scoped>\n",
       "    .dataframe tbody tr th:only-of-type {\n",
       "        vertical-align: middle;\n",
       "    }\n",
       "\n",
       "    .dataframe tbody tr th {\n",
       "        vertical-align: top;\n",
       "    }\n",
       "\n",
       "    .dataframe thead th {\n",
       "        text-align: right;\n",
       "    }\n",
       "</style>\n",
       "<table border=\"1\" class=\"dataframe\">\n",
       "  <thead>\n",
       "    <tr style=\"text-align: right;\">\n",
       "      <th></th>\n",
       "      <th>strategy</th>\n",
       "      <th>r</th>\n",
       "      <th>p</th>\n",
       "      <th>slope</th>\n",
       "      <th>n</th>\n",
       "    </tr>\n",
       "  </thead>\n",
       "  <tbody>\n",
       "    <tr>\n",
       "      <th>0</th>\n",
       "      <td>country_based</td>\n",
       "      <td>0.927527</td>\n",
       "      <td>0.002702</td>\n",
       "      <td>0.311446</td>\n",
       "      <td>8</td>\n",
       "    </tr>\n",
       "    <tr>\n",
       "      <th>1</th>\n",
       "      <td>topic based</td>\n",
       "      <td>0.992855</td>\n",
       "      <td>0.000003</td>\n",
       "      <td>0.217214</td>\n",
       "      <td>8</td>\n",
       "    </tr>\n",
       "    <tr>\n",
       "      <th>2</th>\n",
       "      <td>random</td>\n",
       "      <td>0.948208</td>\n",
       "      <td>0.001002</td>\n",
       "      <td>0.179873</td>\n",
       "      <td>8</td>\n",
       "    </tr>\n",
       "  </tbody>\n",
       "</table>\n",
       "</div>"
      ],
      "text/plain": [
       "        strategy         r         p     slope  n\n",
       "0  country_based  0.927527  0.002702  0.311446  8\n",
       "1    topic based  0.992855  0.000003  0.217214  8\n",
       "2         random  0.948208  0.001002  0.179873  8"
      ]
     },
     "execution_count": 43,
     "metadata": {},
     "output_type": "execute_result"
    }
   ],
   "source": [
    "df = pd.DataFrame(list_rows)\n",
    "df['p'] = multipletests(df['p'], method = 'bonferroni', alpha = 0.5)[1]\n",
    "df"
   ]
  },
  {
   "cell_type": "code",
   "execution_count": null,
   "id": "cb3cce50",
   "metadata": {},
   "outputs": [],
   "source": []
  }
 ],
 "metadata": {
  "kernelspec": {
   "display_name": "Python 3 (ipykernel)",
   "language": "python",
   "name": "python3"
  },
  "language_info": {
   "codemirror_mode": {
    "name": "ipython",
    "version": 3
   },
   "file_extension": ".py",
   "mimetype": "text/x-python",
   "name": "python",
   "nbconvert_exporter": "python",
   "pygments_lexer": "ipython3",
   "version": "3.8.18"
  }
 },
 "nbformat": 4,
 "nbformat_minor": 5
}
