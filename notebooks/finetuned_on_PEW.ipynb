{
 "cells": [
  {
   "cell_type": "code",
   "execution_count": 25,
   "id": "59c8b9e7",
   "metadata": {},
   "outputs": [],
   "source": [
    "import pandas as pd\n",
    "import numpy as np\n",
    "import scipy.stats\n",
    "import matplotlib.pyplot as plt\n",
    "import seaborn as sns\n",
    "import pickle\n",
    "from statsmodels.stats.multitest import multipletests\n"
   ]
  },
  {
   "cell_type": "code",
   "execution_count": 86,
   "metadata": {},
   "outputs": [],
   "source": [
    "REPLICATION = True\n",
    "\n",
    "file_path_add = ''\n",
    "if REPLICATION:\n",
    "    file_path_add = 'replication/'\n",
    "\n",
    "basemodelname = 'gpt2'"
   ]
  },
  {
   "cell_type": "code",
   "execution_count": 87,
   "id": "8e7453dd",
   "metadata": {},
   "outputs": [],
   "source": [
    "models = ['country_based','topic based','random']\n"
   ]
  },
  {
   "cell_type": "code",
   "execution_count": 88,
   "id": "8e14a415",
   "metadata": {},
   "outputs": [],
   "source": [
    "index = 'token_pairs'"
   ]
  },
  {
   "cell_type": "markdown",
   "id": "910aecf9",
   "metadata": {},
   "source": [
    "## Evaluating on WVS"
   ]
  },
  {
   "cell_type": "code",
   "execution_count": 89,
   "id": "b79dcfc9",
   "metadata": {},
   "outputs": [],
   "source": [
    "list_rows = []\n",
    "for model in models:\n",
    "    pew_gpt2 = pd.read_csv(f'../data/{file_path_add}wvs_w7_{basemodelname}_{model}_on_pew_{index}_in.csv')\n",
    "    pew_gpt2_cultural = pew_gpt2.loc[pew_gpt2['country'] != 'universal']\n",
    "    pew_gpt2_cultural = pew_gpt2_cultural.loc[~pd.isna(pew_gpt2_cultural['wvs_score'])]\n",
    "    r, p = (scipy.stats.pearsonr(pew_gpt2_cultural['wvs_score'], pew_gpt2_cultural['log prob difference']))\n",
    "    row = {'model':basemodelname,'train_data' : 'PEW', 'eval_data': 'WVS',\n",
    "          'strategy': model, 'r': r, 'p': p, 'n': len(pew_gpt2_cultural)}\n",
    "    list_rows.append(row)\n"
   ]
  },
  {
   "cell_type": "code",
   "execution_count": 90,
   "id": "b3e2ae32",
   "metadata": {},
   "outputs": [
    {
     "data": {
      "text/html": [
       "<div>\n",
       "<style scoped>\n",
       "    .dataframe tbody tr th:only-of-type {\n",
       "        vertical-align: middle;\n",
       "    }\n",
       "\n",
       "    .dataframe tbody tr th {\n",
       "        vertical-align: top;\n",
       "    }\n",
       "\n",
       "    .dataframe thead th {\n",
       "        text-align: right;\n",
       "    }\n",
       "</style>\n",
       "<table border=\"1\" class=\"dataframe\">\n",
       "  <thead>\n",
       "    <tr style=\"text-align: right;\">\n",
       "      <th></th>\n",
       "      <th>model</th>\n",
       "      <th>train_data</th>\n",
       "      <th>eval_data</th>\n",
       "      <th>strategy</th>\n",
       "      <th>r</th>\n",
       "      <th>p</th>\n",
       "      <th>n</th>\n",
       "    </tr>\n",
       "  </thead>\n",
       "  <tbody>\n",
       "    <tr>\n",
       "      <th>0</th>\n",
       "      <td>gpt2</td>\n",
       "      <td>PEW</td>\n",
       "      <td>WVS</td>\n",
       "      <td>country_based</td>\n",
       "      <td>0.429615</td>\n",
       "      <td>6.026195e-47</td>\n",
       "      <td>1028</td>\n",
       "    </tr>\n",
       "    <tr>\n",
       "      <th>1</th>\n",
       "      <td>gpt2</td>\n",
       "      <td>PEW</td>\n",
       "      <td>WVS</td>\n",
       "      <td>topic based</td>\n",
       "      <td>0.426214</td>\n",
       "      <td>3.778737e-46</td>\n",
       "      <td>1028</td>\n",
       "    </tr>\n",
       "    <tr>\n",
       "      <th>2</th>\n",
       "      <td>gpt2</td>\n",
       "      <td>PEW</td>\n",
       "      <td>WVS</td>\n",
       "      <td>random</td>\n",
       "      <td>0.458814</td>\n",
       "      <td>3.539759e-54</td>\n",
       "      <td>1028</td>\n",
       "    </tr>\n",
       "  </tbody>\n",
       "</table>\n",
       "</div>"
      ],
      "text/plain": [
       "  model train_data eval_data       strategy         r             p     n\n",
       "0  gpt2        PEW       WVS  country_based  0.429615  6.026195e-47  1028\n",
       "1  gpt2        PEW       WVS    topic based  0.426214  3.778737e-46  1028\n",
       "2  gpt2        PEW       WVS         random  0.458814  3.539759e-54  1028"
      ]
     },
     "execution_count": 90,
     "metadata": {},
     "output_type": "execute_result"
    }
   ],
   "source": [
    "df = pd.DataFrame(list_rows)\n",
    "df['p'] = multipletests(df['p'], method = 'bonferroni', alpha = 0.5)[1]\n",
    "df"
   ]
  },
  {
   "cell_type": "markdown",
   "id": "2f792d18",
   "metadata": {},
   "source": [
    "## Evaluating on PEW\n",
    "we have to remove seen pairs from evaluation set"
   ]
  },
  {
   "cell_type": "code",
   "execution_count": 91,
   "id": "637b9ca1",
   "metadata": {},
   "outputs": [],
   "source": [
    "pew_topics = {'use contraceptives':'using contraceptives',\n",
    "           'get a divorce':'getting a divorce', \n",
    "            'have an abortion': 'having an abortion',\n",
    "            'be homosexual': 'homosexuality', \n",
    "           'drink alcohol': 'drinking alcohol',\n",
    "           'have an extramarital affair': 'married people having an affair' ,\n",
    "             'gamble': 'gambling',\n",
    "       'have sex between unmarried adults':'sex between unmarried adults'\n",
    "                         }\n",
    "pew_topics_list = list(pew_topics.keys())\n",
    "\n"
   ]
  },
  {
   "cell_type": "code",
   "execution_count": 92,
   "id": "023c6d3d",
   "metadata": {},
   "outputs": [],
   "source": [
    "def included_function(pairs):\n",
    "    def func(row):\n",
    "        return (row['country'], pew_topics[row['topic']]) in pairs\n",
    "    return func"
   ]
  },
  {
   "cell_type": "code",
   "execution_count": 93,
   "id": "42a995e9",
   "metadata": {},
   "outputs": [],
   "source": [
    "all_eval_pairs = pickle.load(open(f'../data/{file_path_add}pew_eval_pairs.p', 'rb'))\n",
    "list_rows = []\n",
    "for model in models:\n",
    "    eval_pairs = all_eval_pairs[model]\n",
    "    pew_gpt2 = pd.read_csv(f'../data/{file_path_add}pew_{basemodelname}_{model}_on_pew_{index}.csv')\n",
    "    pew_gpt2_cultural = pew_gpt2.loc[pew_gpt2['country'] != 'universal']\n",
    "    \n",
    "    pew_gpt2_cultural = pew_gpt2_cultural.loc[~pd.isna(pew_gpt2_cultural['pew_score'])]\n",
    "    pew_gpt2_cultural['in_eval'] = pew_gpt2_cultural.apply(included_function(eval_pairs), axis = 1)\n",
    "    pew_gpt2_cultural = pew_gpt2_cultural.loc[pew_gpt2_cultural.in_eval == True]\n",
    "\n",
    "    r, p = scipy.stats.pearsonr(pew_gpt2_cultural['pew_score'], pew_gpt2_cultural['log prob difference'])\n",
    "    row = {'model':basemodelname,'train_data' : 'PEW', 'eval_data': 'PEW',\n",
    "          'strategy': model, 'r': r, 'p': p, 'n': len(pew_gpt2_cultural)}\n",
    "    list_rows.append(row)"
   ]
  },
  {
   "cell_type": "code",
   "execution_count": 94,
   "id": "c8abc499",
   "metadata": {},
   "outputs": [
    {
     "data": {
      "text/html": [
       "<div>\n",
       "<style scoped>\n",
       "    .dataframe tbody tr th:only-of-type {\n",
       "        vertical-align: middle;\n",
       "    }\n",
       "\n",
       "    .dataframe tbody tr th {\n",
       "        vertical-align: top;\n",
       "    }\n",
       "\n",
       "    .dataframe thead th {\n",
       "        text-align: right;\n",
       "    }\n",
       "</style>\n",
       "<table border=\"1\" class=\"dataframe\">\n",
       "  <thead>\n",
       "    <tr style=\"text-align: right;\">\n",
       "      <th></th>\n",
       "      <th>model</th>\n",
       "      <th>train_data</th>\n",
       "      <th>eval_data</th>\n",
       "      <th>strategy</th>\n",
       "      <th>r</th>\n",
       "      <th>p</th>\n",
       "      <th>n</th>\n",
       "    </tr>\n",
       "  </thead>\n",
       "  <tbody>\n",
       "    <tr>\n",
       "      <th>0</th>\n",
       "      <td>gpt2</td>\n",
       "      <td>PEW</td>\n",
       "      <td>PEW</td>\n",
       "      <td>country_based</td>\n",
       "      <td>0.727773</td>\n",
       "      <td>2.872348e-11</td>\n",
       "      <td>64</td>\n",
       "    </tr>\n",
       "    <tr>\n",
       "      <th>1</th>\n",
       "      <td>gpt2</td>\n",
       "      <td>PEW</td>\n",
       "      <td>PEW</td>\n",
       "      <td>topic based</td>\n",
       "      <td>0.650598</td>\n",
       "      <td>3.414898e-10</td>\n",
       "      <td>78</td>\n",
       "    </tr>\n",
       "    <tr>\n",
       "      <th>2</th>\n",
       "      <td>gpt2</td>\n",
       "      <td>PEW</td>\n",
       "      <td>PEW</td>\n",
       "      <td>random</td>\n",
       "      <td>0.832700</td>\n",
       "      <td>7.981025e-17</td>\n",
       "      <td>63</td>\n",
       "    </tr>\n",
       "  </tbody>\n",
       "</table>\n",
       "</div>"
      ],
      "text/plain": [
       "  model train_data eval_data       strategy         r             p   n\n",
       "0  gpt2        PEW       PEW  country_based  0.727773  2.872348e-11  64\n",
       "1  gpt2        PEW       PEW    topic based  0.650598  3.414898e-10  78\n",
       "2  gpt2        PEW       PEW         random  0.832700  7.981025e-17  63"
      ]
     },
     "execution_count": 94,
     "metadata": {},
     "output_type": "execute_result"
    }
   ],
   "source": [
    "df = pd.DataFrame(list_rows)\n",
    "df['p'] = multipletests(df['p'], method = 'bonferroni', alpha = 0.5)[1]\n",
    "df"
   ]
  },
  {
   "cell_type": "markdown",
   "id": "d8e0d8ec",
   "metadata": {},
   "source": [
    "# Variation study"
   ]
  },
  {
   "cell_type": "markdown",
   "id": "ed8b652c",
   "metadata": {},
   "source": [
    "### WVS"
   ]
  },
  {
   "cell_type": "code",
   "execution_count": 70,
   "id": "aae2f674",
   "metadata": {},
   "outputs": [],
   "source": [
    "topics = ['claiming government benefits to which you are not entitled',\n",
    " 'avoiding a fare on public transport',\n",
    " 'stealing property',\n",
    " 'cheating on taxes',\n",
    " 'someone accepting a bribe in the course of their duties',\n",
    " 'homosexuality',\n",
    " 'prostitution',\n",
    " 'abortion',\n",
    " 'divorce',\n",
    " 'sex before marriage',\n",
    " 'suicide',\n",
    " 'euthanasia',\n",
    " 'for a man to beat his wife',\n",
    " 'parents beating children',\n",
    " 'violence against other people',\n",
    " 'terrorism as a political, ideological or religious mean',\n",
    " 'having casual sex',\n",
    " 'political violence',\n",
    " 'death penalty']"
   ]
  },
  {
   "cell_type": "code",
   "execution_count": 71,
   "id": "dc07647a",
   "metadata": {},
   "outputs": [],
   "source": [
    "variation_rows = []\n",
    "\n",
    "for i, model in enumerate(models):\n",
    "    if model == 'topic based':\n",
    "        model_refined = 'topic_based'\n",
    "    elif model == 'removed topics':\n",
    "        model_refined = 'removed_topic'\n",
    "    else:\n",
    "        model_refined = model\n",
    "    wvs_gpt2 = pd.read_csv(f'../data/{file_path_add}wvs_w7_{basemodelname}_{model}_on_pew_{index}_in.csv')\n",
    "    wvs_gpt2_cultural = wvs_gpt2.loc[wvs_gpt2['country'] != 'universal']\n",
    "    df = wvs_gpt2_cultural.loc[~pd.isna(wvs_gpt2_cultural['wvs_score'])]\n",
    "\n",
    "    for t in topics:\n",
    "\n",
    "        pew_gpt2_t = df.loc[df.topic == t]\n",
    "        user_var = np.var(pew_gpt2_t['wvs_score'])\n",
    "        model_var = np.var(pew_gpt2_t['log prob difference'])\n",
    "        row = {'model': model, 'user variation': user_var, 'model variation': model_var, 'topic': t}\n",
    "        variation_rows.append(row)\n",
    "\n",
    "df = pd.DataFrame(variation_rows)\n",
    "\n",
    "   \n"
   ]
  },
  {
   "cell_type": "code",
   "execution_count": 72,
   "id": "38eab6fb",
   "metadata": {},
   "outputs": [],
   "source": [
    "list_rows = []\n",
    "for i, model in enumerate(models):\n",
    "    \n",
    "    model_df = df.loc[df.model == model] \n",
    "    r, p = scipy.stats.pearsonr(model_df['model variation'],model_df['user variation'])\n",
    "    \n",
    "    row = {'strategy': model, 'r': r, 'p':p,\n",
    "          'n': len(model_df)}\n",
    "    list_rows.append(row)"
   ]
  },
  {
   "cell_type": "code",
   "execution_count": 73,
   "id": "22464cb3",
   "metadata": {},
   "outputs": [
    {
     "data": {
      "text/html": [
       "<div>\n",
       "<style scoped>\n",
       "    .dataframe tbody tr th:only-of-type {\n",
       "        vertical-align: middle;\n",
       "    }\n",
       "\n",
       "    .dataframe tbody tr th {\n",
       "        vertical-align: top;\n",
       "    }\n",
       "\n",
       "    .dataframe thead th {\n",
       "        text-align: right;\n",
       "    }\n",
       "</style>\n",
       "<table border=\"1\" class=\"dataframe\">\n",
       "  <thead>\n",
       "    <tr style=\"text-align: right;\">\n",
       "      <th></th>\n",
       "      <th>strategy</th>\n",
       "      <th>r</th>\n",
       "      <th>p</th>\n",
       "      <th>n</th>\n",
       "    </tr>\n",
       "  </thead>\n",
       "  <tbody>\n",
       "    <tr>\n",
       "      <th>0</th>\n",
       "      <td>country_based</td>\n",
       "      <td>0.775878</td>\n",
       "      <td>0.000284</td>\n",
       "      <td>19</td>\n",
       "    </tr>\n",
       "    <tr>\n",
       "      <th>1</th>\n",
       "      <td>topic based</td>\n",
       "      <td>0.612060</td>\n",
       "      <td>0.016046</td>\n",
       "      <td>19</td>\n",
       "    </tr>\n",
       "    <tr>\n",
       "      <th>2</th>\n",
       "      <td>random</td>\n",
       "      <td>0.696045</td>\n",
       "      <td>0.002800</td>\n",
       "      <td>19</td>\n",
       "    </tr>\n",
       "  </tbody>\n",
       "</table>\n",
       "</div>"
      ],
      "text/plain": [
       "        strategy         r         p   n\n",
       "0  country_based  0.775878  0.000284  19\n",
       "1    topic based  0.612060  0.016046  19\n",
       "2         random  0.696045  0.002800  19"
      ]
     },
     "execution_count": 73,
     "metadata": {},
     "output_type": "execute_result"
    }
   ],
   "source": [
    "df = pd.DataFrame(list_rows)\n",
    "df['p'] = multipletests(df['p'], method = 'bonferroni', alpha = 0.5)[1]\n",
    "df"
   ]
  },
  {
   "cell_type": "markdown",
   "id": "1d784efa",
   "metadata": {},
   "source": [
    "## PEW"
   ]
  },
  {
   "cell_type": "code",
   "execution_count": 74,
   "id": "e4dd6547",
   "metadata": {},
   "outputs": [],
   "source": [
    "pew_topics = {'using contraceptives':['using contraceptives', 'use contraceptives'],\n",
    "           'getting a divorce': ['getting a divorce','get a divorce'], \n",
    "           'having an abortion': ['having an abortion','have an abortion'],\n",
    "           'homosexuality': ['homosexuality','be homosexual'], \n",
    "           'drinking alcohol': ['drinking alcohol','drink alcohol'],\n",
    "           'married people having an affair' : ['married people having an affair', 'have an extramarital affair'],\n",
    "            'gambling': ['gambling','gamble'],\n",
    "       'sex between unmarried adults': [ 'sex between unmarried adults','have sex between unmarried adults']\n",
    "                         }\n",
    "\n",
    "pew_topics_list = list(pew_topics.keys())\n",
    "\n",
    "variation_rows = []\n",
    "\n",
    "for i, model in enumerate(models):\n",
    "    if model == 'topic based':\n",
    "        model_refined = 'topic_based'\n",
    "    elif model == 'removed topics':\n",
    "        model_refined = 'removed_topic'\n",
    "    else:\n",
    "        model_refined = model\n",
    "    pew_gpt2 = pd.read_csv(f'../data/{file_path_add}pew_{basemodelname}_{model}_on_pew_{index}.csv')\n",
    "    pew_gpt2_cultural = pew_gpt2.loc[wvs_gpt2['country'] != 'universal']\n",
    "    df = pew_gpt2_cultural.loc[~pd.isna(pew_gpt2_cultural['pew_score'])]\n",
    "\n",
    "    for t in pew_topics:\n",
    "\n",
    "        pew_gpt2_t = df.loc[df.topic.isin(pew_topics[t])]\n",
    "        user_var = np.var(pew_gpt2_t['pew_score'])\n",
    "        model_var = np.var(pew_gpt2_t['log prob difference'])\n",
    "        row = {'model': model, 'user variation': user_var, 'model variation': model_var, 'topic': t}\n",
    "        variation_rows.append(row)\n",
    "\n",
    "df = pd.DataFrame(variation_rows)\n",
    "\n",
    "   \n",
    "\n",
    "\n"
   ]
  },
  {
   "cell_type": "code",
   "execution_count": 75,
   "id": "e42ff9ab",
   "metadata": {},
   "outputs": [],
   "source": [
    "list_rows = []\n",
    "for i, model in enumerate(models):\n",
    "    \n",
    "    model_df = df.loc[df.model == model]\n",
    "    \n",
    "\n",
    "    slope, intercept, r, p, std_err =\\\n",
    "    scipy.stats.linregress(model_df['model variation'],model_df['user variation'])\n",
    "    \n",
    "    \n",
    "    row = {'strategy': model, 'r': r, 'p':p,'slope':slope,\n",
    "          'n': len(model_df)}\n",
    "    list_rows.append(row)\n",
    "    \n"
   ]
  },
  {
   "cell_type": "code",
   "execution_count": 76,
   "id": "33453dff",
   "metadata": {},
   "outputs": [
    {
     "data": {
      "text/html": [
       "<div>\n",
       "<style scoped>\n",
       "    .dataframe tbody tr th:only-of-type {\n",
       "        vertical-align: middle;\n",
       "    }\n",
       "\n",
       "    .dataframe tbody tr th {\n",
       "        vertical-align: top;\n",
       "    }\n",
       "\n",
       "    .dataframe thead th {\n",
       "        text-align: right;\n",
       "    }\n",
       "</style>\n",
       "<table border=\"1\" class=\"dataframe\">\n",
       "  <thead>\n",
       "    <tr style=\"text-align: right;\">\n",
       "      <th></th>\n",
       "      <th>strategy</th>\n",
       "      <th>r</th>\n",
       "      <th>p</th>\n",
       "      <th>slope</th>\n",
       "      <th>n</th>\n",
       "    </tr>\n",
       "  </thead>\n",
       "  <tbody>\n",
       "    <tr>\n",
       "      <th>0</th>\n",
       "      <td>country_based</td>\n",
       "      <td>0.929280</td>\n",
       "      <td>0.002514</td>\n",
       "      <td>0.563220</td>\n",
       "      <td>8</td>\n",
       "    </tr>\n",
       "    <tr>\n",
       "      <th>1</th>\n",
       "      <td>topic based</td>\n",
       "      <td>0.848208</td>\n",
       "      <td>0.023335</td>\n",
       "      <td>0.677774</td>\n",
       "      <td>8</td>\n",
       "    </tr>\n",
       "    <tr>\n",
       "      <th>2</th>\n",
       "      <td>random</td>\n",
       "      <td>0.905824</td>\n",
       "      <td>0.005830</td>\n",
       "      <td>0.363514</td>\n",
       "      <td>8</td>\n",
       "    </tr>\n",
       "  </tbody>\n",
       "</table>\n",
       "</div>"
      ],
      "text/plain": [
       "        strategy         r         p     slope  n\n",
       "0  country_based  0.929280  0.002514  0.563220  8\n",
       "1    topic based  0.848208  0.023335  0.677774  8\n",
       "2         random  0.905824  0.005830  0.363514  8"
      ]
     },
     "execution_count": 76,
     "metadata": {},
     "output_type": "execute_result"
    }
   ],
   "source": [
    "df = pd.DataFrame(list_rows)\n",
    "df['p'] = multipletests(df['p'], method = 'bonferroni', alpha = 0.5)[1]\n",
    "df"
   ]
  },
  {
   "cell_type": "code",
   "execution_count": null,
   "id": "cb3cce50",
   "metadata": {},
   "outputs": [],
   "source": []
  }
 ],
 "metadata": {
  "kernelspec": {
   "display_name": "Python 3 (ipykernel)",
   "language": "python",
   "name": "python3"
  },
  "language_info": {
   "codemirror_mode": {
    "name": "ipython",
    "version": 3
   },
   "file_extension": ".py",
   "mimetype": "text/x-python",
   "name": "python",
   "nbconvert_exporter": "python",
   "pygments_lexer": "ipython3",
   "version": "3.8.18"
  }
 },
 "nbformat": 4,
 "nbformat_minor": 5
}
