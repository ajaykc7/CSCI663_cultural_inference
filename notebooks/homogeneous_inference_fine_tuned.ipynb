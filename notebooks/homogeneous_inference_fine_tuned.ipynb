{
 "cells": [
  {
   "cell_type": "code",
   "execution_count": 1,
   "id": "64f4d5c2",
   "metadata": {},
   "outputs": [],
   "source": [
    "import pandas as pd\n",
    "import matplotlib.pyplot as plt\n",
    "import seaborn as sns\n",
    "import pickle\n",
    "import scipy.stats as stats\n",
    "import numpy as np"
   ]
  },
  {
   "cell_type": "code",
   "execution_count": 15,
   "metadata": {},
   "outputs": [],
   "source": [
    "REPLICATION = True\n",
    "\n",
    "file_path_add = ''\n",
    "if REPLICATION:\n",
    "    file_path_add = 'replication/'\n",
    "\n",
    "basemodelname = 'gpt2-large'"
   ]
  },
  {
   "cell_type": "code",
   "execution_count": 16,
   "id": "57a4b873",
   "metadata": {},
   "outputs": [],
   "source": [
    "def get_correlation(prompts,metric_name, user_study = 'globalAMT'):\n",
    "\n",
    "    user_ratings = []\n",
    "    perplexity = []\n",
    "    text = []\n",
    "    does = []\n",
    "    for row in prompts:\n",
    "        if f'user_score_{user_study}' not in row:\n",
    "            continue\n",
    "        user_score = row[f'user_score_{user_study}']\n",
    "\n",
    "        text.append(row['aa'] + ' ' + row['aci'])\n",
    "        user_ratings.append(user_score)\n",
    "        perplexity.append(row[metric_name])\n",
    "        if user_score >= 0:\n",
    "            does.append(True)\n",
    "        else:\n",
    "            does.append(False)\n",
    "    \n",
    "    does_ids = [i for i in range(len(does)) if does[i] == True]\n",
    "    donts_ids = [i for i in range(len(does)) if does[i] == False]\n",
    "    user_ratings_does = np.array(user_ratings)[does_ids]\n",
    "    perplexity_does = np.array(perplexity)[does_ids]\n",
    "\n",
    "    user_ratings_donts = np.array(user_ratings)[donts_ids]\n",
    "    perplexity_donts = np.array(perplexity)[donts_ids]\n",
    "    print(stats.pearsonr(user_ratings, perplexity))\n"
   ]
  },
  {
   "cell_type": "markdown",
   "id": "493e53fb",
   "metadata": {},
   "source": [
    "## Perplexity difference"
   ]
  },
  {
   "cell_type": "code",
   "execution_count": 11,
   "id": "77c59170",
   "metadata": {},
   "outputs": [],
   "source": [
    "def get_finetuned_gpt2_results(test_type, train_data):\n",
    "    if train_data == 'wvs':\n",
    "        train_data = '_on_wvs'\n",
    "    else:\n",
    "        train_data = '_on_pew'\n",
    "    prompts = pickle.load(open(f'../data/{file_path_add}MoRT_actions/prompts_{basemodelname}_{test_type}{train_data}_pair_logprob_userstudy_globalAMT_style_mv_at_end_use_last_token_True.p',\n",
    "      'rb'))\n",
    "    get_correlation(prompts, 'log prob difference')\n",
    "    "
   ]
  },
  {
   "cell_type": "code",
   "execution_count": 17,
   "id": "8bc3f176",
   "metadata": {},
   "outputs": [
    {
     "name": "stdout",
     "output_type": "stream",
     "text": [
      "wvs random\n",
      "PearsonRResult(statistic=0.6668343613861194, pvalue=3.6225427837075014e-14)\n",
      "wvs country_based\n",
      "PearsonRResult(statistic=0.6997530684466258, pvalue=5.51079052648661e-16)\n",
      "wvs topic based\n",
      "PearsonRResult(statistic=0.738690479025508, pvalue=1.756747386594492e-18)\n",
      "pew random\n",
      "PearsonRResult(statistic=0.8230124455672642, pvalue=8.23480424851103e-26)\n",
      "pew country_based\n",
      "PearsonRResult(statistic=0.8362134780129264, pvalue=2.587727658222531e-27)\n",
      "pew topic based\n",
      "PearsonRResult(statistic=0.5086458689437663, pvalue=6.550060451376035e-08)\n"
     ]
    }
   ],
   "source": [
    "for train_data in ['wvs','pew']:\n",
    "    for test_type in ['random','country_based','topic based']:\n",
    "        print(train_data, test_type)\n",
    "        get_finetuned_gpt2_results(test_type, train_data)\n",
    "        "
   ]
  }
 ],
 "metadata": {
  "kernelspec": {
   "display_name": "Python 3 (ipykernel)",
   "language": "python",
   "name": "python3"
  },
  "language_info": {
   "codemirror_mode": {
    "name": "ipython",
    "version": 3
   },
   "file_extension": ".py",
   "mimetype": "text/x-python",
   "name": "python",
   "nbconvert_exporter": "python",
   "pygments_lexer": "ipython3",
   "version": "3.8.18"
  }
 },
 "nbformat": 4,
 "nbformat_minor": 5
}
