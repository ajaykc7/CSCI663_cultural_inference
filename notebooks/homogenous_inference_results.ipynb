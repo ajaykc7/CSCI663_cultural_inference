{
 "cells": [
  {
   "cell_type": "code",
   "execution_count": 226,
   "id": "b715aa8f",
   "metadata": {},
   "outputs": [],
   "source": [
    "import pandas as pd\n",
    "import numpy as np\n",
    "import scipy.stats\n",
    "import matplotlib.pyplot as plt\n",
    "import seaborn as sns\n",
    "import pickle"
   ]
  },
  {
   "cell_type": "code",
   "execution_count": 227,
   "metadata": {},
   "outputs": [],
   "source": [
    "REPLICATION = True\n",
    "\n",
    "file_path_add = ''\n",
    "if REPLICATION:\n",
    "    file_path_add = 'replication/'"
   ]
  },
  {
   "cell_type": "markdown",
   "id": "d4403c3b",
   "metadata": {},
   "source": [
    "### Loading the results"
   ]
  },
  {
   "cell_type": "code",
   "execution_count": 228,
   "id": "18dae12c",
   "metadata": {},
   "outputs": [],
   "source": [
    "wave = 7\n",
    "\n",
    "\n",
    "wvs_mcm = pd.read_csv(f'../data/{file_path_add}wvs_w{wave}_mcm.csv')\n",
    "wvs_gpt3 = pd.read_csv('../data/wvs_w7_gpt3.csv')\n",
    "wvs_gpt3_token_pairs = pd.read_csv('../data/wvs_w7_gpt3_token_pairs.csv')\n",
    "wvs_gpt2 = pd.read_csv(f'../data/{file_path_add}wvs_w7_gpt2_token_pairs_in.csv')\n",
    "wvs_gpt2_universal = wvs_gpt2.loc[wvs_gpt2.country == 'universal']\n",
    "uni_wvs_gp3 = pd.read_csv('../data/universal_wvs_w7_gpt3.csv')\n",
    "\n",
    "\n",
    "pew_mcm = pd.read_csv(f'../data/{file_path_add}pew_mcm.csv')\n",
    "pew_gpt = pd.read_csv('../data/pew_gpt3.csv')\n",
    "pew_gpt3_token_pairs = pd.read_csv('../data/pew_gpt3_token_pairs.csv')\n",
    "pew_gpt2 = pd.read_csv(f'../data/{file_path_add}pew_gpt2_token_pairs_in.csv')\n",
    "uni_pew_gpt = pd.read_csv('../data/universal_pew_gpt3.csv')\n"
   ]
  },
  {
   "cell_type": "code",
   "execution_count": 229,
   "id": "904cdc10",
   "metadata": {},
   "outputs": [],
   "source": [
    "list_rows = []"
   ]
  },
  {
   "cell_type": "markdown",
   "id": "3b5330fd",
   "metadata": {},
   "source": [
    "SBERT"
   ]
  },
  {
   "cell_type": "code",
   "execution_count": 230,
   "id": "d77f5745",
   "metadata": {},
   "outputs": [],
   "source": [
    "\n",
    "wvs_mcm_nan_removed = wvs_mcm.loc[~pd.isna(wvs_mcm.wvs_score)]\n",
    "r, p = scipy.stats.pearsonr(wvs_mcm_nan_removed['wvs_score'], wvs_mcm_nan_removed['universal_mcm_score'])\n",
    "row = {'model': 'SBERT', 'r': r, 'p':p, 'dataset': 'WVS', 'n' : len(wvs_mcm_nan_removed['wvs_score'])}\n",
    "list_rows.append(row)\n",
    "\n",
    "r, p = scipy.stats.pearsonr(pew_mcm['pew_score'], pew_mcm['universal_mcm_score'])\n",
    "row = {'model': 'SBERT', 'r': r, 'p':p, 'dataset': 'PEW', 'n': len(pew_mcm['pew_score'])}\n",
    "list_rows.append(row)\n"
   ]
  },
  {
   "cell_type": "markdown",
   "id": "783a16cd",
   "metadata": {},
   "source": [
    "GPT3-QA"
   ]
  },
  {
   "cell_type": "code",
   "execution_count": 231,
   "id": "d357c718",
   "metadata": {},
   "outputs": [
    {
     "data": {
      "text/plain": [
       "\" wvs_gpt3 = wvs_gpt3.loc[~pd.isna(wvs_gpt3.wvs_score)]\\nuni_wvs_gp3 = uni_wvs_gp3.loc[~pd.isna(uni_wvs_gp3['wvs_score'])]\\nscipy.stats.pearsonr(uni_wvs_gp3['wvs_score'], uni_wvs_gp3['gpt3_score_mean'])\\nr, p = scipy.stats.pearsonr(uni_wvs_gp3['wvs_score'], uni_wvs_gp3['gpt3_score_mean'])\\nrow = {'model': 'GPT3-QA', 'r': r, 'p':p, 'dataset': 'WVS','n':len(uni_wvs_gp3['wvs_score'])}\\nlist_rows.append(row)\\n\\n\\nr, p = scipy.stats.pearsonr(uni_pew_gpt['pew_score'], uni_pew_gpt['gpt3_score_mean'])\\nrow = {'model': 'GPT3-QA', 'r': r, 'p':p, 'dataset': 'PEW', 'n':len(uni_pew_gpt['pew_score'])}\\nlist_rows.append(row) \""
      ]
     },
     "execution_count": 231,
     "metadata": {},
     "output_type": "execute_result"
    }
   ],
   "source": [
    "\"\"\" wvs_gpt3 = wvs_gpt3.loc[~pd.isna(wvs_gpt3.wvs_score)]\n",
    "uni_wvs_gp3 = uni_wvs_gp3.loc[~pd.isna(uni_wvs_gp3['wvs_score'])]\n",
    "scipy.stats.pearsonr(uni_wvs_gp3['wvs_score'], uni_wvs_gp3['gpt3_score_mean'])\n",
    "r, p = scipy.stats.pearsonr(uni_wvs_gp3['wvs_score'], uni_wvs_gp3['gpt3_score_mean'])\n",
    "row = {'model': 'GPT3-QA', 'r': r, 'p':p, 'dataset': 'WVS','n':len(uni_wvs_gp3['wvs_score'])}\n",
    "list_rows.append(row)\n",
    "\n",
    "\n",
    "r, p = scipy.stats.pearsonr(uni_pew_gpt['pew_score'], uni_pew_gpt['gpt3_score_mean'])\n",
    "row = {'model': 'GPT3-QA', 'r': r, 'p':p, 'dataset': 'PEW', 'n':len(uni_pew_gpt['pew_score'])}\n",
    "list_rows.append(row) \"\"\""
   ]
  },
  {
   "cell_type": "markdown",
   "id": "75654fc0",
   "metadata": {},
   "source": [
    "GPT3-PROBS"
   ]
  },
  {
   "cell_type": "code",
   "execution_count": 232,
   "id": "9b48fb03",
   "metadata": {},
   "outputs": [
    {
     "data": {
      "text/plain": [
       "\" wvs_gpt3_token_pairs_cultural = wvs_gpt3_token_pairs.loc[wvs_gpt3_token_pairs['country'] != 'universal']\\nwvs_gpt3_token_pairs_cultural = wvs_gpt3_token_pairs_cultural.loc[~pd.isna(wvs_gpt3_token_pairs_cultural['wvs_score'])]\\nwvs_gpt3_token_pairs_universal = wvs_gpt3_token_pairs.loc[wvs_gpt3_token_pairs['country'] == 'universal']\\n\\nwvs_gpt3_token_pairs_cultural['universal log prob difference'] = [float(wvs_gpt3_token_pairs_universal.loc[wvs_gpt3_token_pairs_universal.topic == t]['log prob difference']) for t in list(wvs_gpt3_token_pairs_cultural.topic)]\\nr, p = scipy.stats.pearsonr(wvs_gpt3_token_pairs_cultural['wvs_score'], wvs_gpt3_token_pairs_cultural['universal log prob difference'])\\nrow = {'model': 'GPT3-PROBS', 'r': r, 'p':p, 'dataset': 'WVS','n':len(wvs_gpt3_token_pairs_cultural['wvs_score'])}\\nlist_rows.append(row)\\n\\n\\nuniversal_pew_gpt3_token_pairs = pew_gpt3_token_pairs.loc[pew_gpt3_token_pairs.country == 'universal']\\npew_gpt3_token_pairs_cultural = pew_gpt3_token_pairs.loc[pew_gpt3_token_pairs.country != 'universal']\\npew_gpt3_token_pairs_cultural['universal log prob difference'] = [float(universal_pew_gpt3_token_pairs.loc[universal_pew_gpt3_token_pairs.topic == t]['log prob difference']) for t in list(pew_gpt3_token_pairs_cultural.topic)]\\nr, p = scipy.stats.pearsonr(pew_gpt3_token_pairs_cultural['pew_score'], pew_gpt3_token_pairs_cultural['universal log prob difference'])\\nrow = {'model': 'GPT3-PROBS', 'r': r, 'p':p, 'dataset': 'PEW','n':len(pew_gpt3_token_pairs_cultural['pew_score'])}\\nlist_rows.append(row)\\n \""
      ]
     },
     "execution_count": 232,
     "metadata": {},
     "output_type": "execute_result"
    }
   ],
   "source": [
    "\"\"\" wvs_gpt3_token_pairs_cultural = wvs_gpt3_token_pairs.loc[wvs_gpt3_token_pairs['country'] != 'universal']\n",
    "wvs_gpt3_token_pairs_cultural = wvs_gpt3_token_pairs_cultural.loc[~pd.isna(wvs_gpt3_token_pairs_cultural['wvs_score'])]\n",
    "wvs_gpt3_token_pairs_universal = wvs_gpt3_token_pairs.loc[wvs_gpt3_token_pairs['country'] == 'universal']\n",
    "\n",
    "wvs_gpt3_token_pairs_cultural['universal log prob difference'] = \\\n",
    "[float(wvs_gpt3_token_pairs_universal.loc[wvs_gpt3_token_pairs_universal.topic == t]['log prob difference']) for t in list(wvs_gpt3_token_pairs_cultural.topic)]\n",
    "r, p = scipy.stats.pearsonr(wvs_gpt3_token_pairs_cultural['wvs_score'], wvs_gpt3_token_pairs_cultural['universal log prob difference'])\n",
    "row = {'model': 'GPT3-PROBS', 'r': r, 'p':p, 'dataset': 'WVS','n':len(wvs_gpt3_token_pairs_cultural['wvs_score'])}\n",
    "list_rows.append(row)\n",
    "\n",
    "\n",
    "universal_pew_gpt3_token_pairs = pew_gpt3_token_pairs.loc[pew_gpt3_token_pairs.country == 'universal']\n",
    "pew_gpt3_token_pairs_cultural = pew_gpt3_token_pairs.loc[pew_gpt3_token_pairs.country != 'universal']\n",
    "pew_gpt3_token_pairs_cultural['universal log prob difference'] = \\\n",
    "[float(universal_pew_gpt3_token_pairs.loc[universal_pew_gpt3_token_pairs.topic == t]['log prob difference']) for t in list(pew_gpt3_token_pairs_cultural.topic)]\n",
    "r, p = scipy.stats.pearsonr(pew_gpt3_token_pairs_cultural['pew_score'], pew_gpt3_token_pairs_cultural['universal log prob difference'])\n",
    "row = {'model': 'GPT3-PROBS', 'r': r, 'p':p, 'dataset': 'PEW','n':len(pew_gpt3_token_pairs_cultural['pew_score'])}\n",
    "list_rows.append(row)\n",
    " \"\"\""
   ]
  },
  {
   "cell_type": "markdown",
   "id": "64f19f8a",
   "metadata": {},
   "source": [
    "GPT2"
   ]
  },
  {
   "cell_type": "code",
   "execution_count": 233,
   "id": "1b5ccb14",
   "metadata": {},
   "outputs": [
    {
     "name": "stderr",
     "output_type": "stream",
     "text": [
      "C:\\Users\\ajay_\\AppData\\Local\\Temp\\ipykernel_15556\\2250375657.py:4: FutureWarning: Calling float on a single element Series is deprecated and will raise a TypeError in the future. Use float(ser.iloc[0]) instead\n",
      "  [float(wvs_gpt2_universal.loc[wvs_gpt2_universal.topic == t]['log prob difference']) for t in list(wvs_gpt2_cultural.topic)]\n"
     ]
    }
   ],
   "source": [
    "wvs_gpt2 = wvs_gpt2.loc[~pd.isna(wvs_gpt2.wvs_score)]\n",
    "wvs_gpt2_cultural = wvs_gpt2.loc[wvs_gpt2['country'] != 'universal']\n",
    "wvs_gpt2_cultural['universal log prob difference'] = \\\n",
    "[float(wvs_gpt2_universal.loc[wvs_gpt2_universal.topic == t]['log prob difference']) for t in list(wvs_gpt2_cultural.topic)]\n",
    "r, p = scipy.stats.pearsonr(wvs_gpt2_cultural['wvs_score'], wvs_gpt2_cultural['universal log prob difference'])\n",
    "row = {'model': 'GPT2', 'r': r, 'p':p, 'dataset': 'WVS','n':len(wvs_gpt2_cultural['wvs_score'])}\n",
    "list_rows.append(row)"
   ]
  },
  {
   "cell_type": "code",
   "execution_count": 234,
   "id": "bd91bb31",
   "metadata": {},
   "outputs": [
    {
     "ename": "FileNotFoundError",
     "evalue": "[Errno 2] No such file or directory: '../data/replication/wvs_w7_gpt2_token_pairs.csv'",
     "output_type": "error",
     "traceback": [
      "\u001b[1;31m---------------------------------------------------------------------------\u001b[0m",
      "\u001b[1;31mFileNotFoundError\u001b[0m                         Traceback (most recent call last)",
      "\u001b[1;32mf:\\Github repo\\CSCI662_cultural_inference\\notebooks\\homogenous_inference_results.ipynb Cell 14\u001b[0m line \u001b[0;36m4\n\u001b[0;32m      <a href='vscode-notebook-cell:/f%3A/Github%20repo/CSCI662_cultural_inference/notebooks/homogenous_inference_results.ipynb#X15sZmlsZQ%3D%3D?line=1'>2</a>\u001b[0m countries \u001b[39m=\u001b[39m \u001b[39mlist\u001b[39m(wvs_mcm\u001b[39m.\u001b[39mcountry\u001b[39m.\u001b[39munique())\n\u001b[0;32m      <a href='vscode-notebook-cell:/f%3A/Github%20repo/CSCI662_cultural_inference/notebooks/homogenous_inference_results.ipynb#X15sZmlsZQ%3D%3D?line=2'>3</a>\u001b[0m \u001b[39mfor\u001b[39;00m model \u001b[39min\u001b[39;00m models:\n\u001b[1;32m----> <a href='vscode-notebook-cell:/f%3A/Github%20repo/CSCI662_cultural_inference/notebooks/homogenous_inference_results.ipynb#X15sZmlsZQ%3D%3D?line=3'>4</a>\u001b[0m     wvs_gpt2 \u001b[39m=\u001b[39m pd\u001b[39m.\u001b[39;49mread_csv(\u001b[39mf\u001b[39;49m\u001b[39m'\u001b[39;49m\u001b[39m../data/\u001b[39;49m\u001b[39m{\u001b[39;49;00mfile_path_add\u001b[39m}\u001b[39;49;00m\u001b[39mwvs_w7_\u001b[39;49m\u001b[39m{\u001b[39;49;00mmodel\u001b[39m}\u001b[39;49;00m\u001b[39m_token_pairs.csv\u001b[39;49m\u001b[39m'\u001b[39;49m)\n\u001b[0;32m      <a href='vscode-notebook-cell:/f%3A/Github%20repo/CSCI662_cultural_inference/notebooks/homogenous_inference_results.ipynb#X15sZmlsZQ%3D%3D?line=4'>5</a>\u001b[0m     wvs_gpt2_universal \u001b[39m=\u001b[39m wvs_gpt2\u001b[39m.\u001b[39mloc[wvs_gpt2\u001b[39m.\u001b[39mcountry \u001b[39m==\u001b[39m \u001b[39m'\u001b[39m\u001b[39muniversal\u001b[39m\u001b[39m'\u001b[39m]\n\u001b[0;32m      <a href='vscode-notebook-cell:/f%3A/Github%20repo/CSCI662_cultural_inference/notebooks/homogenous_inference_results.ipynb#X15sZmlsZQ%3D%3D?line=6'>7</a>\u001b[0m     wvs_gpt2 \u001b[39m=\u001b[39m wvs_gpt2\u001b[39m.\u001b[39mloc[\u001b[39m~\u001b[39mpd\u001b[39m.\u001b[39misna(wvs_gpt2\u001b[39m.\u001b[39mwvs_score)]\n",
      "File \u001b[1;32me:\\Programs\\Anaconda\\envs\\662\\lib\\site-packages\\pandas\\io\\parsers\\readers.py:912\u001b[0m, in \u001b[0;36mread_csv\u001b[1;34m(filepath_or_buffer, sep, delimiter, header, names, index_col, usecols, dtype, engine, converters, true_values, false_values, skipinitialspace, skiprows, skipfooter, nrows, na_values, keep_default_na, na_filter, verbose, skip_blank_lines, parse_dates, infer_datetime_format, keep_date_col, date_parser, date_format, dayfirst, cache_dates, iterator, chunksize, compression, thousands, decimal, lineterminator, quotechar, quoting, doublequote, escapechar, comment, encoding, encoding_errors, dialect, on_bad_lines, delim_whitespace, low_memory, memory_map, float_precision, storage_options, dtype_backend)\u001b[0m\n\u001b[0;32m    899\u001b[0m kwds_defaults \u001b[39m=\u001b[39m _refine_defaults_read(\n\u001b[0;32m    900\u001b[0m     dialect,\n\u001b[0;32m    901\u001b[0m     delimiter,\n\u001b[1;32m   (...)\u001b[0m\n\u001b[0;32m    908\u001b[0m     dtype_backend\u001b[39m=\u001b[39mdtype_backend,\n\u001b[0;32m    909\u001b[0m )\n\u001b[0;32m    910\u001b[0m kwds\u001b[39m.\u001b[39mupdate(kwds_defaults)\n\u001b[1;32m--> 912\u001b[0m \u001b[39mreturn\u001b[39;00m _read(filepath_or_buffer, kwds)\n",
      "File \u001b[1;32me:\\Programs\\Anaconda\\envs\\662\\lib\\site-packages\\pandas\\io\\parsers\\readers.py:577\u001b[0m, in \u001b[0;36m_read\u001b[1;34m(filepath_or_buffer, kwds)\u001b[0m\n\u001b[0;32m    574\u001b[0m _validate_names(kwds\u001b[39m.\u001b[39mget(\u001b[39m\"\u001b[39m\u001b[39mnames\u001b[39m\u001b[39m\"\u001b[39m, \u001b[39mNone\u001b[39;00m))\n\u001b[0;32m    576\u001b[0m \u001b[39m# Create the parser.\u001b[39;00m\n\u001b[1;32m--> 577\u001b[0m parser \u001b[39m=\u001b[39m TextFileReader(filepath_or_buffer, \u001b[39m*\u001b[39;49m\u001b[39m*\u001b[39;49mkwds)\n\u001b[0;32m    579\u001b[0m \u001b[39mif\u001b[39;00m chunksize \u001b[39mor\u001b[39;00m iterator:\n\u001b[0;32m    580\u001b[0m     \u001b[39mreturn\u001b[39;00m parser\n",
      "File \u001b[1;32me:\\Programs\\Anaconda\\envs\\662\\lib\\site-packages\\pandas\\io\\parsers\\readers.py:1407\u001b[0m, in \u001b[0;36mTextFileReader.__init__\u001b[1;34m(self, f, engine, **kwds)\u001b[0m\n\u001b[0;32m   1404\u001b[0m     \u001b[39mself\u001b[39m\u001b[39m.\u001b[39moptions[\u001b[39m\"\u001b[39m\u001b[39mhas_index_names\u001b[39m\u001b[39m\"\u001b[39m] \u001b[39m=\u001b[39m kwds[\u001b[39m\"\u001b[39m\u001b[39mhas_index_names\u001b[39m\u001b[39m\"\u001b[39m]\n\u001b[0;32m   1406\u001b[0m \u001b[39mself\u001b[39m\u001b[39m.\u001b[39mhandles: IOHandles \u001b[39m|\u001b[39m \u001b[39mNone\u001b[39;00m \u001b[39m=\u001b[39m \u001b[39mNone\u001b[39;00m\n\u001b[1;32m-> 1407\u001b[0m \u001b[39mself\u001b[39m\u001b[39m.\u001b[39m_engine \u001b[39m=\u001b[39m \u001b[39mself\u001b[39;49m\u001b[39m.\u001b[39;49m_make_engine(f, \u001b[39mself\u001b[39;49m\u001b[39m.\u001b[39;49mengine)\n",
      "File \u001b[1;32me:\\Programs\\Anaconda\\envs\\662\\lib\\site-packages\\pandas\\io\\parsers\\readers.py:1661\u001b[0m, in \u001b[0;36mTextFileReader._make_engine\u001b[1;34m(self, f, engine)\u001b[0m\n\u001b[0;32m   1659\u001b[0m     \u001b[39mif\u001b[39;00m \u001b[39m\"\u001b[39m\u001b[39mb\u001b[39m\u001b[39m\"\u001b[39m \u001b[39mnot\u001b[39;00m \u001b[39min\u001b[39;00m mode:\n\u001b[0;32m   1660\u001b[0m         mode \u001b[39m+\u001b[39m\u001b[39m=\u001b[39m \u001b[39m\"\u001b[39m\u001b[39mb\u001b[39m\u001b[39m\"\u001b[39m\n\u001b[1;32m-> 1661\u001b[0m \u001b[39mself\u001b[39m\u001b[39m.\u001b[39mhandles \u001b[39m=\u001b[39m get_handle(\n\u001b[0;32m   1662\u001b[0m     f,\n\u001b[0;32m   1663\u001b[0m     mode,\n\u001b[0;32m   1664\u001b[0m     encoding\u001b[39m=\u001b[39;49m\u001b[39mself\u001b[39;49m\u001b[39m.\u001b[39;49moptions\u001b[39m.\u001b[39;49mget(\u001b[39m\"\u001b[39;49m\u001b[39mencoding\u001b[39;49m\u001b[39m\"\u001b[39;49m, \u001b[39mNone\u001b[39;49;00m),\n\u001b[0;32m   1665\u001b[0m     compression\u001b[39m=\u001b[39;49m\u001b[39mself\u001b[39;49m\u001b[39m.\u001b[39;49moptions\u001b[39m.\u001b[39;49mget(\u001b[39m\"\u001b[39;49m\u001b[39mcompression\u001b[39;49m\u001b[39m\"\u001b[39;49m, \u001b[39mNone\u001b[39;49;00m),\n\u001b[0;32m   1666\u001b[0m     memory_map\u001b[39m=\u001b[39;49m\u001b[39mself\u001b[39;49m\u001b[39m.\u001b[39;49moptions\u001b[39m.\u001b[39;49mget(\u001b[39m\"\u001b[39;49m\u001b[39mmemory_map\u001b[39;49m\u001b[39m\"\u001b[39;49m, \u001b[39mFalse\u001b[39;49;00m),\n\u001b[0;32m   1667\u001b[0m     is_text\u001b[39m=\u001b[39;49mis_text,\n\u001b[0;32m   1668\u001b[0m     errors\u001b[39m=\u001b[39;49m\u001b[39mself\u001b[39;49m\u001b[39m.\u001b[39;49moptions\u001b[39m.\u001b[39;49mget(\u001b[39m\"\u001b[39;49m\u001b[39mencoding_errors\u001b[39;49m\u001b[39m\"\u001b[39;49m, \u001b[39m\"\u001b[39;49m\u001b[39mstrict\u001b[39;49m\u001b[39m\"\u001b[39;49m),\n\u001b[0;32m   1669\u001b[0m     storage_options\u001b[39m=\u001b[39;49m\u001b[39mself\u001b[39;49m\u001b[39m.\u001b[39;49moptions\u001b[39m.\u001b[39;49mget(\u001b[39m\"\u001b[39;49m\u001b[39mstorage_options\u001b[39;49m\u001b[39m\"\u001b[39;49m, \u001b[39mNone\u001b[39;49;00m),\n\u001b[0;32m   1670\u001b[0m )\n\u001b[0;32m   1671\u001b[0m \u001b[39massert\u001b[39;00m \u001b[39mself\u001b[39m\u001b[39m.\u001b[39mhandles \u001b[39mis\u001b[39;00m \u001b[39mnot\u001b[39;00m \u001b[39mNone\u001b[39;00m\n\u001b[0;32m   1672\u001b[0m f \u001b[39m=\u001b[39m \u001b[39mself\u001b[39m\u001b[39m.\u001b[39mhandles\u001b[39m.\u001b[39mhandle\n",
      "File \u001b[1;32me:\\Programs\\Anaconda\\envs\\662\\lib\\site-packages\\pandas\\io\\common.py:859\u001b[0m, in \u001b[0;36mget_handle\u001b[1;34m(path_or_buf, mode, encoding, compression, memory_map, is_text, errors, storage_options)\u001b[0m\n\u001b[0;32m    854\u001b[0m \u001b[39melif\u001b[39;00m \u001b[39misinstance\u001b[39m(handle, \u001b[39mstr\u001b[39m):\n\u001b[0;32m    855\u001b[0m     \u001b[39m# Check whether the filename is to be opened in binary mode.\u001b[39;00m\n\u001b[0;32m    856\u001b[0m     \u001b[39m# Binary mode does not support 'encoding' and 'newline'.\u001b[39;00m\n\u001b[0;32m    857\u001b[0m     \u001b[39mif\u001b[39;00m ioargs\u001b[39m.\u001b[39mencoding \u001b[39mand\u001b[39;00m \u001b[39m\"\u001b[39m\u001b[39mb\u001b[39m\u001b[39m\"\u001b[39m \u001b[39mnot\u001b[39;00m \u001b[39min\u001b[39;00m ioargs\u001b[39m.\u001b[39mmode:\n\u001b[0;32m    858\u001b[0m         \u001b[39m# Encoding\u001b[39;00m\n\u001b[1;32m--> 859\u001b[0m         handle \u001b[39m=\u001b[39m \u001b[39mopen\u001b[39;49m(\n\u001b[0;32m    860\u001b[0m             handle,\n\u001b[0;32m    861\u001b[0m             ioargs\u001b[39m.\u001b[39;49mmode,\n\u001b[0;32m    862\u001b[0m             encoding\u001b[39m=\u001b[39;49mioargs\u001b[39m.\u001b[39;49mencoding,\n\u001b[0;32m    863\u001b[0m             errors\u001b[39m=\u001b[39;49merrors,\n\u001b[0;32m    864\u001b[0m             newline\u001b[39m=\u001b[39;49m\u001b[39m\"\u001b[39;49m\u001b[39m\"\u001b[39;49m,\n\u001b[0;32m    865\u001b[0m         )\n\u001b[0;32m    866\u001b[0m     \u001b[39melse\u001b[39;00m:\n\u001b[0;32m    867\u001b[0m         \u001b[39m# Binary mode\u001b[39;00m\n\u001b[0;32m    868\u001b[0m         handle \u001b[39m=\u001b[39m \u001b[39mopen\u001b[39m(handle, ioargs\u001b[39m.\u001b[39mmode)\n",
      "\u001b[1;31mFileNotFoundError\u001b[0m: [Errno 2] No such file or directory: '../data/replication/wvs_w7_gpt2_token_pairs.csv'"
     ]
    }
   ],
   "source": [
    "models = ['gpt2', 'gpt2-medium','gpt2-large']\n",
    "countries = list(wvs_mcm.country.unique())\n",
    "for model in models:\n",
    "    wvs_gpt2 = pd.read_csv(f'../data/{file_path_add}wvs_w7_{model}_token_pairs.csv')\n",
    "    wvs_gpt2_universal = wvs_gpt2.loc[wvs_gpt2.country == 'universal']\n",
    "    \n",
    "    wvs_gpt2 = wvs_gpt2.loc[~pd.isna(wvs_gpt2.wvs_score)]\n",
    "    wvs_gpt2_cultural = wvs_gpt2.loc[wvs_gpt2['country'] != 'universal']\n",
    "    \n",
    "    wvs_gpt2_cultural['universal log prob difference'] = \\\n",
    "    [float(wvs_gpt2_universal.loc[wvs_gpt2_universal.topic == t]\\\n",
    "           ['log prob difference'].sample()) for t in list(wvs_gpt2_cultural.topic)]\n",
    "    \n",
    "    \n",
    "    \n",
    "    r, p = scipy.stats.pearsonr(wvs_gpt2_cultural['wvs_score'], \n",
    "                                wvs_gpt2_cultural['universal log prob difference'])\n",
    "    \n",
    "    row = {'model': model.upper(), 'r': r, 'p':p, 'dataset': 'WVS','n':len(wvs_gpt2_cultural['wvs_score'])}\n",
    "    list_rows.append(row)\n",
    "    \n",
    "    \n",
    "    pew_gpt2 = pd.read_csv(f'../data/{file_path_add}pew_{model}_token_pairs_in.csv')\n",
    "    pew_gpt2_cultural = pew_gpt2.loc[pew_gpt2['country'] != 'universal']\n",
    "     \n",
    "    universal_pew_gpt2 = pew_gpt2.loc[pew_gpt2.country == 'universal']\n",
    "    pew_gpt2_cultural['universal log prob difference'] = \\\n",
    "    [float(universal_pew_gpt2.loc[universal_pew_gpt2.topic == t]['log prob difference'].sample()) for t in list(pew_gpt2_cultural.topic)]\n",
    "    r, p = scipy.stats.pearsonr(pew_gpt2_cultural['pew_score'], \\\n",
    "                                pew_gpt2_cultural['universal log prob difference'])\n",
    "    \n",
    "    row = {'model': model.upper(), 'r': r, 'p':p, 'dataset': 'PEW','n':len(pew_gpt2_cultural['pew_score'])}\n",
    "    list_rows.append(row)\n",
    "\n"
   ]
  },
  {
   "cell_type": "markdown",
   "id": "d4ec6ddb",
   "metadata": {},
   "source": [
    "# Homogeneous norms"
   ]
  },
  {
   "cell_type": "markdown",
   "id": "e2caf05e",
   "metadata": {},
   "source": [
    "SBERT"
   ]
  },
  {
   "cell_type": "code",
   "execution_count": null,
   "id": "df5e2255",
   "metadata": {},
   "outputs": [],
   "source": [
    "row = {'model':'SBERT','r' : 0.79, 'p': None, 'dataset' : 'Homogeneous norms'}\n",
    "list_rows.append(row)"
   ]
  },
  {
   "cell_type": "markdown",
   "id": "93dd494e",
   "metadata": {},
   "source": [
    "GPT3-QA"
   ]
  },
  {
   "cell_type": "code",
   "execution_count": null,
   "id": "bdb3b050",
   "metadata": {},
   "outputs": [
    {
     "data": {
      "text/plain": [
       "\" gpt3_amt = pd.read_csv(f'../data/MorT_actions/gpt3_mort_userstudy_globalAMT.csv')\\nr, p = scipy.stats.pearsonr(gpt3_amt['gpt3_score_mean'], gpt3_amt['user_score'])\\nrow = {'model':'GPT3-QA','r' : r, 'p': p, 'dataset' : 'Homogeneous norms','n':len(gpt3_amt['user_score'])}\\nlist_rows.append(row) \""
      ]
     },
     "execution_count": 219,
     "metadata": {},
     "output_type": "execute_result"
    }
   ],
   "source": [
    "\"\"\" gpt3_amt = pd.read_csv(f'../data/MorT_actions/gpt3_mort_userstudy_globalAMT.csv')\n",
    "r, p = scipy.stats.pearsonr(gpt3_amt['gpt3_score_mean'], gpt3_amt['user_score'])\n",
    "row = {'model':'GPT3-QA','r' : r, 'p': p, 'dataset' : 'Homogeneous norms','n':len(gpt3_amt['user_score'])}\n",
    "list_rows.append(row) \"\"\""
   ]
  },
  {
   "cell_type": "markdown",
   "id": "3f2db5b7",
   "metadata": {},
   "source": [
    "GPT3-PROBS"
   ]
  },
  {
   "cell_type": "code",
   "execution_count": null,
   "id": "08b20e17",
   "metadata": {},
   "outputs": [
    {
     "data": {
      "text/plain": [
       "\" gpt3_amt = pd.read_csv(f'../data/MorT_actions/gpt3_mort_userstudy_globalAMT_token_pairs.csv')\\ngpt3_amt = gpt3_amt.loc[~pd.isna(gpt3_amt['user_score_globalAMT'])]\\nr, p = scipy.stats.pearsonr(gpt3_amt['log prob difference'], gpt3_amt['user_score_globalAMT'])\\nrow = {'model':'GPT3-PROBS','r' : r, 'p': p, 'dataset' : 'Homogeneous norms','n':len(gpt3_amt['user_score_globalAMT'])}\\nlist_rows.append(row) \""
      ]
     },
     "execution_count": 220,
     "metadata": {},
     "output_type": "execute_result"
    }
   ],
   "source": [
    "\"\"\" gpt3_amt = pd.read_csv(f'../data/MorT_actions/gpt3_mort_userstudy_globalAMT_token_pairs.csv')\n",
    "gpt3_amt = gpt3_amt.loc[~pd.isna(gpt3_amt['user_score_globalAMT'])]\n",
    "r, p = scipy.stats.pearsonr(gpt3_amt['log prob difference'], gpt3_amt['user_score_globalAMT'])\n",
    "row = {'model':'GPT3-PROBS','r' : r, 'p': p, 'dataset' : 'Homogeneous norms','n':len(gpt3_amt['user_score_globalAMT'])}\n",
    "list_rows.append(row) \"\"\""
   ]
  },
  {
   "cell_type": "markdown",
   "id": "df61f67c",
   "metadata": {},
   "source": [
    "GPT2"
   ]
  },
  {
   "cell_type": "code",
   "execution_count": null,
   "id": "efb8165f",
   "metadata": {},
   "outputs": [],
   "source": [
    "def get_correlation(prompts,metric_name, user_study = 'globalAMT'):\n",
    "    user_ratings = []\n",
    "    perplexity = []\n",
    "    text = []\n",
    "    does = []\n",
    "    for row in prompts:\n",
    "        if f'user_score_{user_study}' not in row:\n",
    "            continue\n",
    "        user_score = row[f'user_score_{user_study}']\n",
    "\n",
    "        text.append(row['aa'] + ' ' + row['aci'])\n",
    "        user_ratings.append(user_score)\n",
    "        perplexity.append(row[metric_name])\n",
    "        if user_score >= 0:\n",
    "            does.append(True)\n",
    "        else:\n",
    "            does.append(False)\n",
    "    \n",
    "    does_ids = [i for i in range(len(does)) if does[i] == True]\n",
    "    donts_ids = [i for i in range(len(does)) if does[i] == False]\n",
    "    user_ratings_does = np.array(user_ratings)[does_ids]\n",
    "    perplexity_does = np.array(perplexity)[does_ids]\n",
    "\n",
    "    user_ratings_donts = np.array(user_ratings)[donts_ids]\n",
    "    perplexity_donts = np.array(perplexity)[donts_ids]\n",
    "    \n",
    "    return scipy.stats.pearsonr(user_ratings, perplexity), len(user_ratings)\n",
    "\n",
    "   \n",
    "\n"
   ]
  },
  {
   "cell_type": "code",
   "execution_count": null,
   "id": "0e653581",
   "metadata": {},
   "outputs": [],
   "source": [
    "for model in models:\n",
    "    prompts = pickle.load(open(f'../data/MoRT_actions/prompts_{model}_pair_logprob_userstudy_globalAMT_style_mv_at_end_use_last_token_True.p', 'rb'))\n",
    "    (r, p),n = get_correlation(prompts, 'log prob difference')\n",
    "    row = {'model':model.upper(),'r' : r, 'p': p, 'dataset' : 'Homogeneous norms',\n",
    "          'n': n}\n",
    "    list_rows.append(row)"
   ]
  },
  {
   "cell_type": "code",
   "execution_count": null,
   "id": "ec578a3a",
   "metadata": {},
   "outputs": [],
   "source": [
    "df = pd.DataFrame(list_rows)\n"
   ]
  },
  {
   "cell_type": "code",
   "execution_count": null,
   "id": "968d80a7",
   "metadata": {},
   "outputs": [
    {
     "data": {
      "text/html": [
       "<div>\n",
       "<style scoped>\n",
       "    .dataframe tbody tr th:only-of-type {\n",
       "        vertical-align: middle;\n",
       "    }\n",
       "\n",
       "    .dataframe tbody tr th {\n",
       "        vertical-align: top;\n",
       "    }\n",
       "\n",
       "    .dataframe thead th {\n",
       "        text-align: right;\n",
       "    }\n",
       "</style>\n",
       "<table border=\"1\" class=\"dataframe\">\n",
       "  <thead>\n",
       "    <tr style=\"text-align: right;\">\n",
       "      <th></th>\n",
       "      <th>model</th>\n",
       "      <th>r</th>\n",
       "      <th>p</th>\n",
       "      <th>dataset</th>\n",
       "      <th>n</th>\n",
       "    </tr>\n",
       "  </thead>\n",
       "  <tbody>\n",
       "    <tr>\n",
       "      <th>9</th>\n",
       "      <td>SBERT</td>\n",
       "      <td>0.790000</td>\n",
       "      <td>NaN</td>\n",
       "      <td>Homogeneous norms</td>\n",
       "      <td>NaN</td>\n",
       "    </tr>\n",
       "    <tr>\n",
       "      <th>10</th>\n",
       "      <td>GPT2</td>\n",
       "      <td>0.797926</td>\n",
       "      <td>3.703107e-22</td>\n",
       "      <td>Homogeneous norms</td>\n",
       "      <td>100.0</td>\n",
       "    </tr>\n",
       "    <tr>\n",
       "      <th>11</th>\n",
       "      <td>GPT2-MEDIUM</td>\n",
       "      <td>0.787247</td>\n",
       "      <td>3.494561e-21</td>\n",
       "      <td>Homogeneous norms</td>\n",
       "      <td>100.0</td>\n",
       "    </tr>\n",
       "    <tr>\n",
       "      <th>12</th>\n",
       "      <td>GPT2-LARGE</td>\n",
       "      <td>0.761870</td>\n",
       "      <td>4.475033e-19</td>\n",
       "      <td>Homogeneous norms</td>\n",
       "      <td>100.0</td>\n",
       "    </tr>\n",
       "    <tr>\n",
       "      <th>0</th>\n",
       "      <td>SBERT</td>\n",
       "      <td>0.209322</td>\n",
       "      <td>1.579333e-10</td>\n",
       "      <td>WVS</td>\n",
       "      <td>1028.0</td>\n",
       "    </tr>\n",
       "    <tr>\n",
       "      <th>2</th>\n",
       "      <td>GPT2</td>\n",
       "      <td>0.175816</td>\n",
       "      <td>1.808503e-07</td>\n",
       "      <td>WVS</td>\n",
       "      <td>1028.0</td>\n",
       "    </tr>\n",
       "    <tr>\n",
       "      <th>3</th>\n",
       "      <td>GPT2</td>\n",
       "      <td>0.175816</td>\n",
       "      <td>1.808503e-07</td>\n",
       "      <td>WVS</td>\n",
       "      <td>1028.0</td>\n",
       "    </tr>\n",
       "    <tr>\n",
       "      <th>5</th>\n",
       "      <td>GPT2-MEDIUM</td>\n",
       "      <td>0.181037</td>\n",
       "      <td>6.553812e-08</td>\n",
       "      <td>WVS</td>\n",
       "      <td>1028.0</td>\n",
       "    </tr>\n",
       "    <tr>\n",
       "      <th>7</th>\n",
       "      <td>GPT2-LARGE</td>\n",
       "      <td>0.226414</td>\n",
       "      <td>2.651768e-12</td>\n",
       "      <td>WVS</td>\n",
       "      <td>1028.0</td>\n",
       "    </tr>\n",
       "    <tr>\n",
       "      <th>1</th>\n",
       "      <td>SBERT</td>\n",
       "      <td>-0.038478</td>\n",
       "      <td>1.000000e+00</td>\n",
       "      <td>PEW</td>\n",
       "      <td>312.0</td>\n",
       "    </tr>\n",
       "    <tr>\n",
       "      <th>4</th>\n",
       "      <td>GPT2</td>\n",
       "      <td>0.160538</td>\n",
       "      <td>5.814435e-02</td>\n",
       "      <td>PEW</td>\n",
       "      <td>312.0</td>\n",
       "    </tr>\n",
       "    <tr>\n",
       "      <th>6</th>\n",
       "      <td>GPT2-MEDIUM</td>\n",
       "      <td>0.077290</td>\n",
       "      <td>1.000000e+00</td>\n",
       "      <td>PEW</td>\n",
       "      <td>312.0</td>\n",
       "    </tr>\n",
       "    <tr>\n",
       "      <th>8</th>\n",
       "      <td>GPT2-LARGE</td>\n",
       "      <td>0.508945</td>\n",
       "      <td>7.566197e-21</td>\n",
       "      <td>PEW</td>\n",
       "      <td>312.0</td>\n",
       "    </tr>\n",
       "  </tbody>\n",
       "</table>\n",
       "</div>"
      ],
      "text/plain": [
       "          model         r             p            dataset       n\n",
       "9         SBERT  0.790000           NaN  Homogeneous norms     NaN\n",
       "10         GPT2  0.797926  3.703107e-22  Homogeneous norms   100.0\n",
       "11  GPT2-MEDIUM  0.787247  3.494561e-21  Homogeneous norms   100.0\n",
       "12   GPT2-LARGE  0.761870  4.475033e-19  Homogeneous norms   100.0\n",
       "0         SBERT  0.209322  1.579333e-10                WVS  1028.0\n",
       "2          GPT2  0.175816  1.808503e-07                WVS  1028.0\n",
       "3          GPT2  0.175816  1.808503e-07                WVS  1028.0\n",
       "5   GPT2-MEDIUM  0.181037  6.553812e-08                WVS  1028.0\n",
       "7    GPT2-LARGE  0.226414  2.651768e-12                WVS  1028.0\n",
       "1         SBERT -0.038478  1.000000e+00                PEW   312.0\n",
       "4          GPT2  0.160538  5.814435e-02                PEW   312.0\n",
       "6   GPT2-MEDIUM  0.077290  1.000000e+00                PEW   312.0\n",
       "8    GPT2-LARGE  0.508945  7.566197e-21                PEW   312.0"
      ]
     },
     "execution_count": 224,
     "metadata": {},
     "output_type": "execute_result"
    }
   ],
   "source": [
    "from statsmodels.stats.multitest import multipletests\n",
    "df['p'] = multipletests(df['p'], method = 'bonferroni', alpha = 0.5)[1]\n",
    "df['dataset'] = pd.Categorical(df['dataset'], [\"Homogeneous norms\", \"WVS\", \"PEW\"])\n",
    "df = df.sort_values(['dataset'])\n",
    "df"
   ]
  },
  {
   "cell_type": "code",
   "execution_count": null,
   "id": "21b7565d",
   "metadata": {},
   "outputs": [
    {
     "name": "stderr",
     "output_type": "stream",
     "text": [
      "C:\\Users\\ajay_\\AppData\\Local\\Temp\\ipykernel_15556\\1379724283.py:3: UserWarning: FixedFormatter should only be used together with FixedLocator\n",
      "  g.set_xticklabels(rotation=30, labels = ['SBERT','GPT2','GPT2-MEDIUM','GPT2-LARGE','GPT3-QA','GPT3-PROBS'],ha = 'right')\n"
     ]
    },
    {
     "data": {
      "image/png": "[encoded data removed]",
      "text/plain": [
       "<Figure size 600x250 with 1 Axes>"
      ]
     },
     "metadata": {},
     "output_type": "display_data"
    }
   ],
   "source": [
    "\n",
    "fig, axes = plt.subplots(figsize = (6, 2.5))\n",
    "g = sns.barplot(data = df, x = 'model', y = 'r',hue = 'dataset' )\n",
    "g.set_xticklabels(rotation=30, labels = ['SBERT','GPT2','GPT2-MEDIUM','GPT2-LARGE','GPT3-QA','GPT3-PROBS'],ha = 'right')\n",
    "g.set(xlabel=\"Model\",ylabel=\"Pearson's r\", title=\"Replication\")\n",
    "sns.despine(left = False)\n",
    "\n",
    "    \n",
    "g.legend(loc='center left', bbox_to_anchor=(0,1.3))\n",
    "plt.show()"
   ]
  }
 ],
 "metadata": {
  "kernelspec": {
   "display_name": "Python 3 (ipykernel)",
   "language": "python",
   "name": "python3"
  },
  "language_info": {
   "codemirror_mode": {
    "name": "ipython",
    "version": 3
   },
   "file_extension": ".py",
   "mimetype": "text/x-python",
   "name": "python",
   "nbconvert_exporter": "python",
   "pygments_lexer": "ipython3",
   "version": "3.8.18"
  }
 },
 "nbformat": 4,
 "nbformat_minor": 5
}
