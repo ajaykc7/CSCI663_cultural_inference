{
 "cells": [
  {
   "cell_type": "code",
   "execution_count": 226,
   "id": "b715aa8f",
   "metadata": {},
   "outputs": [],
   "source": [
    "import pandas as pd\n",
    "import numpy as np\n",
    "import scipy.stats\n",
    "import matplotlib.pyplot as plt\n",
    "import seaborn as sns\n",
    "import pickle"
   ]
  },
  {
   "cell_type": "code",
   "execution_count": 227,
   "metadata": {},
   "outputs": [],
   "source": [
    "REPLICATION = True\n",
    "\n",
    "file_path_add = ''\n",
    "if REPLICATION:\n",
    "    file_path_add = 'replication/'"
   ]
  },
  {
   "cell_type": "markdown",
   "id": "d4403c3b",
   "metadata": {},
   "source": [
    "### Loading the results"
   ]
  },
  {
   "cell_type": "code",
   "execution_count": 316,
   "id": "18dae12c",
   "metadata": {},
   "outputs": [],
   "source": [
    "wave = 7\n",
    "\n",
    "\n",
    "wvs_mcm = pd.read_csv(f'../data/{file_path_add}wvs_w{wave}_mcm.csv')\n",
    "wvs_mistral = pd.read_csv(f'../data/{file_path_add}wvs_w7_mistral.csv')\n",
    "#wvs_gpt3_token_pairs = pd.read_csv('../data/wvs_w7_gpt3_token_pairs.csv')\n",
    "wvs_gpt2 = pd.read_csv(f'../data/{file_path_add}wvs_w7_gpt2_token_pairs_in.csv')\n",
    "wvs_gpt2_universal = wvs_gpt2.loc[wvs_gpt2.country == 'universal']\n",
    "uni_wvs_mistral = pd.read_csv('../data/universal_wvs_w7_mistral.csv')\n",
    "\n",
    "\n",
    "pew_mcm = pd.read_csv(f'../data/{file_path_add}pew_mcm.csv')\n",
    "pew_mistral = pd.read_csv(f'../data/{file_path_add}pew_mistral.csv')\n",
    "#pew_gpt3_token_pairs = pd.read_csv('../data/pew_gpt3_token_pairs.csv')\n",
    "pew_gpt2 = pd.read_csv(f'../data/{file_path_add}pew_gpt2_token_pairs.csv')\n",
    "uni_pew_mistral = pd.read_csv('../data/universal_pew_mistral.csv')\n"
   ]
  },
  {
   "cell_type": "code",
   "execution_count": 229,
   "id": "904cdc10",
   "metadata": {},
   "outputs": [],
   "source": [
    "list_rows = []"
   ]
  },
  {
   "cell_type": "markdown",
   "id": "3b5330fd",
   "metadata": {},
   "source": [
    "SBERT"
   ]
  },
  {
   "cell_type": "code",
   "execution_count": 317,
   "id": "d77f5745",
   "metadata": {},
   "outputs": [],
   "source": [
    "\n",
    "wvs_mcm_nan_removed = wvs_mcm.loc[~pd.isna(wvs_mcm.wvs_score)]\n",
    "r, p = scipy.stats.pearsonr(wvs_mcm_nan_removed['wvs_score'], wvs_mcm_nan_removed['universal_mcm_score'])\n",
    "row = {'model': 'SBERT', 'r': r, 'p':p, 'dataset': 'WVS', 'n' : len(wvs_mcm_nan_removed['wvs_score'])}\n",
    "list_rows.append(row)\n",
    "\n",
    "r, p = scipy.stats.pearsonr(pew_mcm['pew_score'], pew_mcm['universal_mcm_score'])\n",
    "row = {'model': 'SBERT', 'r': r, 'p':p, 'dataset': 'PEW', 'n': len(pew_mcm['pew_score'])}\n",
    "list_rows.append(row)\n"
   ]
  },
  {
   "cell_type": "markdown",
   "id": "783a16cd",
   "metadata": {},
   "source": [
    "GPT3-QA"
   ]
  },
  {
   "cell_type": "code",
   "execution_count": 231,
   "id": "d357c718",
   "metadata": {},
   "outputs": [
    {
     "data": {
      "text/plain": [
       "\" wvs_gpt3 = wvs_gpt3.loc[~pd.isna(wvs_gpt3.wvs_score)]\\nuni_wvs_gp3 = uni_wvs_gp3.loc[~pd.isna(uni_wvs_gp3['wvs_score'])]\\nscipy.stats.pearsonr(uni_wvs_gp3['wvs_score'], uni_wvs_gp3['gpt3_score_mean'])\\nr, p = scipy.stats.pearsonr(uni_wvs_gp3['wvs_score'], uni_wvs_gp3['gpt3_score_mean'])\\nrow = {'model': 'GPT3-QA', 'r': r, 'p':p, 'dataset': 'WVS','n':len(uni_wvs_gp3['wvs_score'])}\\nlist_rows.append(row)\\n\\n\\nr, p = scipy.stats.pearsonr(uni_pew_gpt['pew_score'], uni_pew_gpt['gpt3_score_mean'])\\nrow = {'model': 'GPT3-QA', 'r': r, 'p':p, 'dataset': 'PEW', 'n':len(uni_pew_gpt['pew_score'])}\\nlist_rows.append(row) \""
      ]
     },
     "execution_count": 231,
     "metadata": {},
     "output_type": "execute_result"
    }
   ],
   "source": [
    "\"\"\" wvs_gpt3 = wvs_gpt3.loc[~pd.isna(wvs_gpt3.wvs_score)]\n",
    "uni_wvs_gp3 = uni_wvs_gp3.loc[~pd.isna(uni_wvs_gp3['wvs_score'])]\n",
    "scipy.stats.pearsonr(uni_wvs_gp3['wvs_score'], uni_wvs_gp3['gpt3_score_mean'])\n",
    "r, p = scipy.stats.pearsonr(uni_wvs_gp3['wvs_score'], uni_wvs_gp3['gpt3_score_mean'])\n",
    "row = {'model': 'GPT3-QA', 'r': r, 'p':p, 'dataset': 'WVS','n':len(uni_wvs_gp3['wvs_score'])}\n",
    "list_rows.append(row)\n",
    "\n",
    "\n",
    "r, p = scipy.stats.pearsonr(uni_pew_gpt['pew_score'], uni_pew_gpt['gpt3_score_mean'])\n",
    "row = {'model': 'GPT3-QA', 'r': r, 'p':p, 'dataset': 'PEW', 'n':len(uni_pew_gpt['pew_score'])}\n",
    "list_rows.append(row) \"\"\""
   ]
  },
  {
   "cell_type": "markdown",
   "id": "75654fc0",
   "metadata": {},
   "source": [
    "GPT3-PROBS"
   ]
  },
  {
   "cell_type": "code",
   "execution_count": 232,
   "id": "9b48fb03",
   "metadata": {},
   "outputs": [
    {
     "data": {
      "text/plain": [
       "\" wvs_gpt3_token_pairs_cultural = wvs_gpt3_token_pairs.loc[wvs_gpt3_token_pairs['country'] != 'universal']\\nwvs_gpt3_token_pairs_cultural = wvs_gpt3_token_pairs_cultural.loc[~pd.isna(wvs_gpt3_token_pairs_cultural['wvs_score'])]\\nwvs_gpt3_token_pairs_universal = wvs_gpt3_token_pairs.loc[wvs_gpt3_token_pairs['country'] == 'universal']\\n\\nwvs_gpt3_token_pairs_cultural['universal log prob difference'] = [float(wvs_gpt3_token_pairs_universal.loc[wvs_gpt3_token_pairs_universal.topic == t]['log prob difference']) for t in list(wvs_gpt3_token_pairs_cultural.topic)]\\nr, p = scipy.stats.pearsonr(wvs_gpt3_token_pairs_cultural['wvs_score'], wvs_gpt3_token_pairs_cultural['universal log prob difference'])\\nrow = {'model': 'GPT3-PROBS', 'r': r, 'p':p, 'dataset': 'WVS','n':len(wvs_gpt3_token_pairs_cultural['wvs_score'])}\\nlist_rows.append(row)\\n\\n\\nuniversal_pew_gpt3_token_pairs = pew_gpt3_token_pairs.loc[pew_gpt3_token_pairs.country == 'universal']\\npew_gpt3_token_pairs_cultural = pew_gpt3_token_pairs.loc[pew_gpt3_token_pairs.country != 'universal']\\npew_gpt3_token_pairs_cultural['universal log prob difference'] = [float(universal_pew_gpt3_token_pairs.loc[universal_pew_gpt3_token_pairs.topic == t]['log prob difference']) for t in list(pew_gpt3_token_pairs_cultural.topic)]\\nr, p = scipy.stats.pearsonr(pew_gpt3_token_pairs_cultural['pew_score'], pew_gpt3_token_pairs_cultural['universal log prob difference'])\\nrow = {'model': 'GPT3-PROBS', 'r': r, 'p':p, 'dataset': 'PEW','n':len(pew_gpt3_token_pairs_cultural['pew_score'])}\\nlist_rows.append(row)\\n \""
      ]
     },
     "execution_count": 232,
     "metadata": {},
     "output_type": "execute_result"
    }
   ],
   "source": [
    "\"\"\" wvs_gpt3_token_pairs_cultural = wvs_gpt3_token_pairs.loc[wvs_gpt3_token_pairs['country'] != 'universal']\n",
    "wvs_gpt3_token_pairs_cultural = wvs_gpt3_token_pairs_cultural.loc[~pd.isna(wvs_gpt3_token_pairs_cultural['wvs_score'])]\n",
    "wvs_gpt3_token_pairs_universal = wvs_gpt3_token_pairs.loc[wvs_gpt3_token_pairs['country'] == 'universal']\n",
    "\n",
    "wvs_gpt3_token_pairs_cultural['universal log prob difference'] = \\\n",
    "[float(wvs_gpt3_token_pairs_universal.loc[wvs_gpt3_token_pairs_universal.topic == t]['log prob difference']) for t in list(wvs_gpt3_token_pairs_cultural.topic)]\n",
    "r, p = scipy.stats.pearsonr(wvs_gpt3_token_pairs_cultural['wvs_score'], wvs_gpt3_token_pairs_cultural['universal log prob difference'])\n",
    "row = {'model': 'GPT3-PROBS', 'r': r, 'p':p, 'dataset': 'WVS','n':len(wvs_gpt3_token_pairs_cultural['wvs_score'])}\n",
    "list_rows.append(row)\n",
    "\n",
    "\n",
    "universal_pew_gpt3_token_pairs = pew_gpt3_token_pairs.loc[pew_gpt3_token_pairs.country == 'universal']\n",
    "pew_gpt3_token_pairs_cultural = pew_gpt3_token_pairs.loc[pew_gpt3_token_pairs.country != 'universal']\n",
    "pew_gpt3_token_pairs_cultural['universal log prob difference'] = \\\n",
    "[float(universal_pew_gpt3_token_pairs.loc[universal_pew_gpt3_token_pairs.topic == t]['log prob difference']) for t in list(pew_gpt3_token_pairs_cultural.topic)]\n",
    "r, p = scipy.stats.pearsonr(pew_gpt3_token_pairs_cultural['pew_score'], pew_gpt3_token_pairs_cultural['universal log prob difference'])\n",
    "row = {'model': 'GPT3-PROBS', 'r': r, 'p':p, 'dataset': 'PEW','n':len(pew_gpt3_token_pairs_cultural['pew_score'])}\n",
    "list_rows.append(row)\n",
    " \"\"\""
   ]
  },
  {
   "cell_type": "markdown",
   "id": "64f19f8a",
   "metadata": {},
   "source": [
    "GPT2"
   ]
  },
  {
   "cell_type": "code",
   "execution_count": 318,
   "id": "1b5ccb14",
   "metadata": {},
   "outputs": [
    {
     "name": "stderr",
     "output_type": "stream",
     "text": [
      "C:\\Users\\ajay_\\AppData\\Local\\Temp\\ipykernel_15556\\2250375657.py:4: FutureWarning: Calling float on a single element Series is deprecated and will raise a TypeError in the future. Use float(ser.iloc[0]) instead\n",
      "  [float(wvs_gpt2_universal.loc[wvs_gpt2_universal.topic == t]['log prob difference']) for t in list(wvs_gpt2_cultural.topic)]\n"
     ]
    }
   ],
   "source": [
    "wvs_gpt2 = wvs_gpt2.loc[~pd.isna(wvs_gpt2.wvs_score)]\n",
    "wvs_gpt2_cultural = wvs_gpt2.loc[wvs_gpt2['country'] != 'universal']\n",
    "wvs_gpt2_cultural['universal log prob difference'] = \\\n",
    "[float(wvs_gpt2_universal.loc[wvs_gpt2_universal.topic == t]['log prob difference']) for t in list(wvs_gpt2_cultural.topic)]\n",
    "r, p = scipy.stats.pearsonr(wvs_gpt2_cultural['wvs_score'], wvs_gpt2_cultural['universal log prob difference'])\n",
    "row = {'model': 'GPT2', 'r': r, 'p':p, 'dataset': 'WVS','n':len(wvs_gpt2_cultural['wvs_score'])}\n",
    "list_rows.append(row)"
   ]
  },
  {
   "cell_type": "code",
   "execution_count": 321,
   "id": "bd91bb31",
   "metadata": {},
   "outputs": [
    {
     "name": "stderr",
     "output_type": "stream",
     "text": [
      "C:\\Users\\ajay_\\AppData\\Local\\Temp\\ipykernel_15556\\2838506873.py:11: FutureWarning: Calling float on a single element Series is deprecated and will raise a TypeError in the future. Use float(ser.iloc[0]) instead\n",
      "  [float(wvs_gpt2_universal.loc[wvs_gpt2_universal.topic == t]\\\n",
      "C:\\Users\\ajay_\\AppData\\Local\\Temp\\ipykernel_15556\\2838506873.py:28: FutureWarning: Calling float on a single element Series is deprecated and will raise a TypeError in the future. Use float(ser.iloc[0]) instead\n",
      "  [float(universal_pew_gpt2.loc[universal_pew_gpt2.topic == t]['log prob difference'].sample()) for t in list(pew_gpt2_cultural.topic)]\n",
      "C:\\Users\\ajay_\\AppData\\Local\\Temp\\ipykernel_15556\\2838506873.py:27: SettingWithCopyWarning: \n",
      "A value is trying to be set on a copy of a slice from a DataFrame.\n",
      "Try using .loc[row_indexer,col_indexer] = value instead\n",
      "\n",
      "See the caveats in the documentation: https://pandas.pydata.org/pandas-docs/stable/user_guide/indexing.html#returning-a-view-versus-a-copy\n",
      "  pew_gpt2_cultural['universal log prob difference'] = \\\n",
      "C:\\Users\\ajay_\\AppData\\Local\\Temp\\ipykernel_15556\\2838506873.py:11: FutureWarning: Calling float on a single element Series is deprecated and will raise a TypeError in the future. Use float(ser.iloc[0]) instead\n",
      "  [float(wvs_gpt2_universal.loc[wvs_gpt2_universal.topic == t]\\\n",
      "C:\\Users\\ajay_\\AppData\\Local\\Temp\\ipykernel_15556\\2838506873.py:28: FutureWarning: Calling float on a single element Series is deprecated and will raise a TypeError in the future. Use float(ser.iloc[0]) instead\n",
      "  [float(universal_pew_gpt2.loc[universal_pew_gpt2.topic == t]['log prob difference'].sample()) for t in list(pew_gpt2_cultural.topic)]\n",
      "C:\\Users\\ajay_\\AppData\\Local\\Temp\\ipykernel_15556\\2838506873.py:27: SettingWithCopyWarning: \n",
      "A value is trying to be set on a copy of a slice from a DataFrame.\n",
      "Try using .loc[row_indexer,col_indexer] = value instead\n",
      "\n",
      "See the caveats in the documentation: https://pandas.pydata.org/pandas-docs/stable/user_guide/indexing.html#returning-a-view-versus-a-copy\n",
      "  pew_gpt2_cultural['universal log prob difference'] = \\\n",
      "C:\\Users\\ajay_\\AppData\\Local\\Temp\\ipykernel_15556\\2838506873.py:11: FutureWarning: Calling float on a single element Series is deprecated and will raise a TypeError in the future. Use float(ser.iloc[0]) instead\n",
      "  [float(wvs_gpt2_universal.loc[wvs_gpt2_universal.topic == t]\\\n",
      "C:\\Users\\ajay_\\AppData\\Local\\Temp\\ipykernel_15556\\2838506873.py:28: FutureWarning: Calling float on a single element Series is deprecated and will raise a TypeError in the future. Use float(ser.iloc[0]) instead\n",
      "  [float(universal_pew_gpt2.loc[universal_pew_gpt2.topic == t]['log prob difference'].sample()) for t in list(pew_gpt2_cultural.topic)]\n",
      "C:\\Users\\ajay_\\AppData\\Local\\Temp\\ipykernel_15556\\2838506873.py:27: SettingWithCopyWarning: \n",
      "A value is trying to be set on a copy of a slice from a DataFrame.\n",
      "Try using .loc[row_indexer,col_indexer] = value instead\n",
      "\n",
      "See the caveats in the documentation: https://pandas.pydata.org/pandas-docs/stable/user_guide/indexing.html#returning-a-view-versus-a-copy\n",
      "  pew_gpt2_cultural['universal log prob difference'] = \\\n"
     ]
    }
   ],
   "source": [
    "models = ['gpt2', 'gpt2-medium','gpt2-large']\n",
    "countries = list(wvs_mcm.country.unique())\n",
    "for model in models:\n",
    "    wvs_gpt2 = pd.read_csv(f'../data/{file_path_add}wvs_w7_{model}_token_pairs_in.csv')\n",
    "    wvs_gpt2_universal = wvs_gpt2.loc[wvs_gpt2.country == 'universal']\n",
    "    \n",
    "    wvs_gpt2 = wvs_gpt2.loc[~pd.isna(wvs_gpt2.wvs_score)]\n",
    "    wvs_gpt2_cultural = wvs_gpt2.loc[wvs_gpt2['country'] != 'universal']\n",
    "    \n",
    "    wvs_gpt2_cultural['universal log prob difference'] = \\\n",
    "    [float(wvs_gpt2_universal.loc[wvs_gpt2_universal.topic == t]\\\n",
    "           ['log prob difference'].sample()) for t in list(wvs_gpt2_cultural.topic)]\n",
    "    \n",
    "    \n",
    "    \n",
    "    r, p = scipy.stats.pearsonr(wvs_gpt2_cultural['wvs_score'], \n",
    "                                wvs_gpt2_cultural['universal log prob difference'])\n",
    "    \n",
    "    row = {'model': model.upper(), 'r': r, 'p':p, 'dataset': 'WVS','n':len(wvs_gpt2_cultural['wvs_score'])}\n",
    "    list_rows.append(row)\n",
    "    \n",
    "    \n",
    "    pew_gpt2 = pd.read_csv(f'../data/{file_path_add}pew_{model}_token_pairs.csv')\n",
    "    pew_gpt2_cultural = pew_gpt2.loc[pew_gpt2['country'] != 'universal']\n",
    "     \n",
    "    universal_pew_gpt2 = pew_gpt2.loc[pew_gpt2.country == 'universal']\n",
    "    pew_gpt2_cultural['universal log prob difference'] = \\\n",
    "    [float(universal_pew_gpt2.loc[universal_pew_gpt2.topic == t]['log prob difference'].sample()) for t in list(pew_gpt2_cultural.topic)]\n",
    "    r, p = scipy.stats.pearsonr(pew_gpt2_cultural['pew_score'], \\\n",
    "                                pew_gpt2_cultural['universal log prob difference'])\n",
    "    \n",
    "    row = {'model': model.upper(), 'r': r, 'p':p, 'dataset': 'PEW','n':len(pew_gpt2_cultural['pew_score'])}\n",
    "    list_rows.append(row)\n",
    "\n"
   ]
  },
  {
   "cell_type": "markdown",
   "id": "d4ec6ddb",
   "metadata": {},
   "source": [
    "# Homogeneous norms"
   ]
  },
  {
   "cell_type": "markdown",
   "id": "e2caf05e",
   "metadata": {},
   "source": [
    "SBERT"
   ]
  },
  {
   "cell_type": "code",
   "execution_count": 322,
   "id": "df5e2255",
   "metadata": {},
   "outputs": [],
   "source": [
    "row = {'model':'SBERT','r' : 0.79, 'p': None, 'dataset' : 'Homogeneous norms'}\n",
    "list_rows.append(row)"
   ]
  },
  {
   "cell_type": "markdown",
   "id": "93dd494e",
   "metadata": {},
   "source": [
    "GPT3-QA"
   ]
  },
  {
   "cell_type": "code",
   "execution_count": null,
   "id": "bdb3b050",
   "metadata": {},
   "outputs": [
    {
     "data": {
      "text/plain": [
       "\" gpt3_amt = pd.read_csv(f'../data/MorT_actions/gpt3_mort_userstudy_globalAMT.csv')\\nr, p = scipy.stats.pearsonr(gpt3_amt['gpt3_score_mean'], gpt3_amt['user_score'])\\nrow = {'model':'GPT3-QA','r' : r, 'p': p, 'dataset' : 'Homogeneous norms','n':len(gpt3_amt['user_score'])}\\nlist_rows.append(row) \""
      ]
     },
     "execution_count": 219,
     "metadata": {},
     "output_type": "execute_result"
    }
   ],
   "source": [
    "\"\"\" gpt3_amt = pd.read_csv(f'../data/MorT_actions/gpt3_mort_userstudy_globalAMT.csv')\n",
    "r, p = scipy.stats.pearsonr(gpt3_amt['gpt3_score_mean'], gpt3_amt['user_score'])\n",
    "row = {'model':'GPT3-QA','r' : r, 'p': p, 'dataset' : 'Homogeneous norms','n':len(gpt3_amt['user_score'])}\n",
    "list_rows.append(row) \"\"\""
   ]
  },
  {
   "cell_type": "markdown",
   "id": "3f2db5b7",
   "metadata": {},
   "source": [
    "GPT3-PROBS"
   ]
  },
  {
   "cell_type": "code",
   "execution_count": null,
   "id": "08b20e17",
   "metadata": {},
   "outputs": [
    {
     "data": {
      "text/plain": [
       "\" gpt3_amt = pd.read_csv(f'../data/MorT_actions/gpt3_mort_userstudy_globalAMT_token_pairs.csv')\\ngpt3_amt = gpt3_amt.loc[~pd.isna(gpt3_amt['user_score_globalAMT'])]\\nr, p = scipy.stats.pearsonr(gpt3_amt['log prob difference'], gpt3_amt['user_score_globalAMT'])\\nrow = {'model':'GPT3-PROBS','r' : r, 'p': p, 'dataset' : 'Homogeneous norms','n':len(gpt3_amt['user_score_globalAMT'])}\\nlist_rows.append(row) \""
      ]
     },
     "execution_count": 220,
     "metadata": {},
     "output_type": "execute_result"
    }
   ],
   "source": [
    "\"\"\" gpt3_amt = pd.read_csv(f'../data/MorT_actions/gpt3_mort_userstudy_globalAMT_token_pairs.csv')\n",
    "gpt3_amt = gpt3_amt.loc[~pd.isna(gpt3_amt['user_score_globalAMT'])]\n",
    "r, p = scipy.stats.pearsonr(gpt3_amt['log prob difference'], gpt3_amt['user_score_globalAMT'])\n",
    "row = {'model':'GPT3-PROBS','r' : r, 'p': p, 'dataset' : 'Homogeneous norms','n':len(gpt3_amt['user_score_globalAMT'])}\n",
    "list_rows.append(row) \"\"\""
   ]
  },
  {
   "cell_type": "markdown",
   "id": "df61f67c",
   "metadata": {},
   "source": [
    "GPT2"
   ]
  },
  {
   "cell_type": "code",
   "execution_count": 323,
   "id": "efb8165f",
   "metadata": {},
   "outputs": [],
   "source": [
    "def get_correlation(prompts,metric_name, user_study = 'globalAMT'):\n",
    "    user_ratings = []\n",
    "    perplexity = []\n",
    "    text = []\n",
    "    does = []\n",
    "    for row in prompts:\n",
    "        if f'user_score_{user_study}' not in row:\n",
    "            continue\n",
    "        user_score = row[f'user_score_{user_study}']\n",
    "\n",
    "        text.append(row['aa'] + ' ' + row['aci'])\n",
    "        user_ratings.append(user_score)\n",
    "        perplexity.append(row[metric_name])\n",
    "        if user_score >= 0:\n",
    "            does.append(True)\n",
    "        else:\n",
    "            does.append(False)\n",
    "    \n",
    "    does_ids = [i for i in range(len(does)) if does[i] == True]\n",
    "    donts_ids = [i for i in range(len(does)) if does[i] == False]\n",
    "    user_ratings_does = np.array(user_ratings)[does_ids]\n",
    "    perplexity_does = np.array(perplexity)[does_ids]\n",
    "\n",
    "    user_ratings_donts = np.array(user_ratings)[donts_ids]\n",
    "    perplexity_donts = np.array(perplexity)[donts_ids]\n",
    "    \n",
    "    return scipy.stats.pearsonr(user_ratings, perplexity), len(user_ratings)\n",
    "\n",
    "   \n",
    "\n"
   ]
  },
  {
   "cell_type": "code",
   "execution_count": 326,
   "id": "0e653581",
   "metadata": {},
   "outputs": [],
   "source": [
    "for model in models:\n",
    "    prompts = pickle.load(open(f'../data/{file_path_add}MoRT_actions/prompts_{model}_pair_logprob_userstudy_globalAMT_style_mv_at_end_use_last_token_True.p', 'rb'))\n",
    "    (r, p),n = get_correlation(prompts, 'log prob difference')\n",
    "    row = {'model':model.upper(),'r' : r, 'p': p, 'dataset' : 'Homogeneous norms',\n",
    "          'n': n}\n",
    "    list_rows.append(row)"
   ]
  },
  {
   "cell_type": "code",
   "execution_count": 327,
   "id": "ec578a3a",
   "metadata": {},
   "outputs": [],
   "source": [
    "df = pd.DataFrame(list_rows)\n"
   ]
  },
  {
   "cell_type": "code",
   "execution_count": 328,
   "id": "968d80a7",
   "metadata": {},
   "outputs": [
    {
     "data": {
      "text/html": [
       "<div>\n",
       "<style scoped>\n",
       "    .dataframe tbody tr th:only-of-type {\n",
       "        vertical-align: middle;\n",
       "    }\n",
       "\n",
       "    .dataframe tbody tr th {\n",
       "        vertical-align: top;\n",
       "    }\n",
       "\n",
       "    .dataframe thead th {\n",
       "        text-align: right;\n",
       "    }\n",
       "</style>\n",
       "<table border=\"1\" class=\"dataframe\">\n",
       "  <thead>\n",
       "    <tr style=\"text-align: right;\">\n",
       "      <th></th>\n",
       "      <th>model</th>\n",
       "      <th>r</th>\n",
       "      <th>p</th>\n",
       "      <th>dataset</th>\n",
       "      <th>n</th>\n",
       "    </tr>\n",
       "  </thead>\n",
       "  <tbody>\n",
       "    <tr>\n",
       "      <th>15</th>\n",
       "      <td>GPT2-LARGE</td>\n",
       "      <td>0.761870</td>\n",
       "      <td>1.067123e-18</td>\n",
       "      <td>Homogeneous norms</td>\n",
       "      <td>100.0</td>\n",
       "    </tr>\n",
       "    <tr>\n",
       "      <th>28</th>\n",
       "      <td>GPT2</td>\n",
       "      <td>0.797926</td>\n",
       "      <td>8.830486e-22</td>\n",
       "      <td>Homogeneous norms</td>\n",
       "      <td>100.0</td>\n",
       "    </tr>\n",
       "    <tr>\n",
       "      <th>27</th>\n",
       "      <td>SBERT</td>\n",
       "      <td>0.790000</td>\n",
       "      <td>NaN</td>\n",
       "      <td>Homogeneous norms</td>\n",
       "      <td>NaN</td>\n",
       "    </tr>\n",
       "    <tr>\n",
       "      <th>29</th>\n",
       "      <td>GPT2-MEDIUM</td>\n",
       "      <td>0.787247</td>\n",
       "      <td>8.333184e-21</td>\n",
       "      <td>Homogeneous norms</td>\n",
       "      <td>100.0</td>\n",
       "    </tr>\n",
       "    <tr>\n",
       "      <th>14</th>\n",
       "      <td>GPT2-MEDIUM</td>\n",
       "      <td>0.787247</td>\n",
       "      <td>8.333184e-21</td>\n",
       "      <td>Homogeneous norms</td>\n",
       "      <td>100.0</td>\n",
       "    </tr>\n",
       "    <tr>\n",
       "      <th>13</th>\n",
       "      <td>GPT2</td>\n",
       "      <td>0.797926</td>\n",
       "      <td>8.830486e-22</td>\n",
       "      <td>Homogeneous norms</td>\n",
       "      <td>100.0</td>\n",
       "    </tr>\n",
       "    <tr>\n",
       "      <th>12</th>\n",
       "      <td>MISTRAL-QA</td>\n",
       "      <td>0.527619</td>\n",
       "      <td>5.256518e-07</td>\n",
       "      <td>Homogeneous norms</td>\n",
       "      <td>100.0</td>\n",
       "    </tr>\n",
       "    <tr>\n",
       "      <th>11</th>\n",
       "      <td>SBERT</td>\n",
       "      <td>0.790000</td>\n",
       "      <td>NaN</td>\n",
       "      <td>Homogeneous norms</td>\n",
       "      <td>NaN</td>\n",
       "    </tr>\n",
       "    <tr>\n",
       "      <th>30</th>\n",
       "      <td>GPT2-LARGE</td>\n",
       "      <td>0.761870</td>\n",
       "      <td>1.067123e-18</td>\n",
       "      <td>Homogeneous norms</td>\n",
       "      <td>100.0</td>\n",
       "    </tr>\n",
       "    <tr>\n",
       "      <th>9</th>\n",
       "      <td>GPT2-LARGE</td>\n",
       "      <td>0.226415</td>\n",
       "      <td>6.322249e-12</td>\n",
       "      <td>WVS</td>\n",
       "      <td>1028.0</td>\n",
       "    </tr>\n",
       "    <tr>\n",
       "      <th>2</th>\n",
       "      <td>MISTRAL-QA</td>\n",
       "      <td>0.177689</td>\n",
       "      <td>3.006618e-07</td>\n",
       "      <td>WVS</td>\n",
       "      <td>1028.0</td>\n",
       "    </tr>\n",
       "    <tr>\n",
       "      <th>25</th>\n",
       "      <td>GPT2-LARGE</td>\n",
       "      <td>0.226415</td>\n",
       "      <td>6.322249e-12</td>\n",
       "      <td>WVS</td>\n",
       "      <td>1028.0</td>\n",
       "    </tr>\n",
       "    <tr>\n",
       "      <th>23</th>\n",
       "      <td>GPT2-MEDIUM</td>\n",
       "      <td>0.181036</td>\n",
       "      <td>1.563083e-07</td>\n",
       "      <td>WVS</td>\n",
       "      <td>1028.0</td>\n",
       "    </tr>\n",
       "    <tr>\n",
       "      <th>21</th>\n",
       "      <td>GPT2</td>\n",
       "      <td>0.175815</td>\n",
       "      <td>4.312829e-07</td>\n",
       "      <td>WVS</td>\n",
       "      <td>1028.0</td>\n",
       "    </tr>\n",
       "    <tr>\n",
       "      <th>20</th>\n",
       "      <td>GPT2</td>\n",
       "      <td>0.175815</td>\n",
       "      <td>4.312829e-07</td>\n",
       "      <td>WVS</td>\n",
       "      <td>1028.0</td>\n",
       "    </tr>\n",
       "    <tr>\n",
       "      <th>17</th>\n",
       "      <td>SBERT</td>\n",
       "      <td>0.209322</td>\n",
       "      <td>3.766101e-10</td>\n",
       "      <td>WVS</td>\n",
       "      <td>1028.0</td>\n",
       "    </tr>\n",
       "    <tr>\n",
       "      <th>19</th>\n",
       "      <td>GPT2</td>\n",
       "      <td>0.175815</td>\n",
       "      <td>4.312829e-07</td>\n",
       "      <td>WVS</td>\n",
       "      <td>1028.0</td>\n",
       "    </tr>\n",
       "    <tr>\n",
       "      <th>4</th>\n",
       "      <td>GPT2</td>\n",
       "      <td>0.175815</td>\n",
       "      <td>4.312829e-07</td>\n",
       "      <td>WVS</td>\n",
       "      <td>1028.0</td>\n",
       "    </tr>\n",
       "    <tr>\n",
       "      <th>5</th>\n",
       "      <td>GPT2</td>\n",
       "      <td>0.175815</td>\n",
       "      <td>4.312829e-07</td>\n",
       "      <td>WVS</td>\n",
       "      <td>1028.0</td>\n",
       "    </tr>\n",
       "    <tr>\n",
       "      <th>7</th>\n",
       "      <td>GPT2-MEDIUM</td>\n",
       "      <td>0.181036</td>\n",
       "      <td>1.563083e-07</td>\n",
       "      <td>WVS</td>\n",
       "      <td>1028.0</td>\n",
       "    </tr>\n",
       "    <tr>\n",
       "      <th>16</th>\n",
       "      <td>GPT2</td>\n",
       "      <td>0.175815</td>\n",
       "      <td>4.312829e-07</td>\n",
       "      <td>WVS</td>\n",
       "      <td>1028.0</td>\n",
       "    </tr>\n",
       "    <tr>\n",
       "      <th>0</th>\n",
       "      <td>SBERT</td>\n",
       "      <td>0.209322</td>\n",
       "      <td>3.766101e-10</td>\n",
       "      <td>WVS</td>\n",
       "      <td>1028.0</td>\n",
       "    </tr>\n",
       "    <tr>\n",
       "      <th>3</th>\n",
       "      <td>MISTRAL-QA</td>\n",
       "      <td>0.229984</td>\n",
       "      <td>1.274552e-03</td>\n",
       "      <td>PEW</td>\n",
       "      <td>312.0</td>\n",
       "    </tr>\n",
       "    <tr>\n",
       "      <th>18</th>\n",
       "      <td>SBERT</td>\n",
       "      <td>-0.038478</td>\n",
       "      <td>1.000000e+00</td>\n",
       "      <td>PEW</td>\n",
       "      <td>312.0</td>\n",
       "    </tr>\n",
       "    <tr>\n",
       "      <th>8</th>\n",
       "      <td>GPT2-MEDIUM</td>\n",
       "      <td>0.077290</td>\n",
       "      <td>1.000000e+00</td>\n",
       "      <td>PEW</td>\n",
       "      <td>312.0</td>\n",
       "    </tr>\n",
       "    <tr>\n",
       "      <th>22</th>\n",
       "      <td>GPT2</td>\n",
       "      <td>0.160538</td>\n",
       "      <td>1.386519e-01</td>\n",
       "      <td>PEW</td>\n",
       "      <td>312.0</td>\n",
       "    </tr>\n",
       "    <tr>\n",
       "      <th>6</th>\n",
       "      <td>GPT2</td>\n",
       "      <td>0.160538</td>\n",
       "      <td>1.386519e-01</td>\n",
       "      <td>PEW</td>\n",
       "      <td>312.0</td>\n",
       "    </tr>\n",
       "    <tr>\n",
       "      <th>24</th>\n",
       "      <td>GPT2-MEDIUM</td>\n",
       "      <td>0.077290</td>\n",
       "      <td>1.000000e+00</td>\n",
       "      <td>PEW</td>\n",
       "      <td>312.0</td>\n",
       "    </tr>\n",
       "    <tr>\n",
       "      <th>26</th>\n",
       "      <td>GPT2-LARGE</td>\n",
       "      <td>0.508945</td>\n",
       "      <td>1.804247e-20</td>\n",
       "      <td>PEW</td>\n",
       "      <td>312.0</td>\n",
       "    </tr>\n",
       "    <tr>\n",
       "      <th>10</th>\n",
       "      <td>GPT2-LARGE</td>\n",
       "      <td>0.508945</td>\n",
       "      <td>1.804247e-20</td>\n",
       "      <td>PEW</td>\n",
       "      <td>312.0</td>\n",
       "    </tr>\n",
       "    <tr>\n",
       "      <th>1</th>\n",
       "      <td>SBERT</td>\n",
       "      <td>-0.038478</td>\n",
       "      <td>1.000000e+00</td>\n",
       "      <td>PEW</td>\n",
       "      <td>312.0</td>\n",
       "    </tr>\n",
       "  </tbody>\n",
       "</table>\n",
       "</div>"
      ],
      "text/plain": [
       "          model         r             p            dataset       n\n",
       "15   GPT2-LARGE  0.761870  1.067123e-18  Homogeneous norms   100.0\n",
       "28         GPT2  0.797926  8.830486e-22  Homogeneous norms   100.0\n",
       "27        SBERT  0.790000           NaN  Homogeneous norms     NaN\n",
       "29  GPT2-MEDIUM  0.787247  8.333184e-21  Homogeneous norms   100.0\n",
       "14  GPT2-MEDIUM  0.787247  8.333184e-21  Homogeneous norms   100.0\n",
       "13         GPT2  0.797926  8.830486e-22  Homogeneous norms   100.0\n",
       "12   MISTRAL-QA  0.527619  5.256518e-07  Homogeneous norms   100.0\n",
       "11        SBERT  0.790000           NaN  Homogeneous norms     NaN\n",
       "30   GPT2-LARGE  0.761870  1.067123e-18  Homogeneous norms   100.0\n",
       "9    GPT2-LARGE  0.226415  6.322249e-12                WVS  1028.0\n",
       "2    MISTRAL-QA  0.177689  3.006618e-07                WVS  1028.0\n",
       "25   GPT2-LARGE  0.226415  6.322249e-12                WVS  1028.0\n",
       "23  GPT2-MEDIUM  0.181036  1.563083e-07                WVS  1028.0\n",
       "21         GPT2  0.175815  4.312829e-07                WVS  1028.0\n",
       "20         GPT2  0.175815  4.312829e-07                WVS  1028.0\n",
       "17        SBERT  0.209322  3.766101e-10                WVS  1028.0\n",
       "19         GPT2  0.175815  4.312829e-07                WVS  1028.0\n",
       "4          GPT2  0.175815  4.312829e-07                WVS  1028.0\n",
       "5          GPT2  0.175815  4.312829e-07                WVS  1028.0\n",
       "7   GPT2-MEDIUM  0.181036  1.563083e-07                WVS  1028.0\n",
       "16         GPT2  0.175815  4.312829e-07                WVS  1028.0\n",
       "0         SBERT  0.209322  3.766101e-10                WVS  1028.0\n",
       "3    MISTRAL-QA  0.229984  1.274552e-03                PEW   312.0\n",
       "18        SBERT -0.038478  1.000000e+00                PEW   312.0\n",
       "8   GPT2-MEDIUM  0.077290  1.000000e+00                PEW   312.0\n",
       "22         GPT2  0.160538  1.386519e-01                PEW   312.0\n",
       "6          GPT2  0.160538  1.386519e-01                PEW   312.0\n",
       "24  GPT2-MEDIUM  0.077290  1.000000e+00                PEW   312.0\n",
       "26   GPT2-LARGE  0.508945  1.804247e-20                PEW   312.0\n",
       "10   GPT2-LARGE  0.508945  1.804247e-20                PEW   312.0\n",
       "1         SBERT -0.038478  1.000000e+00                PEW   312.0"
      ]
     },
     "execution_count": 328,
     "metadata": {},
     "output_type": "execute_result"
    }
   ],
   "source": [
    "from statsmodels.stats.multitest import multipletests\n",
    "df['p'] = multipletests(df['p'], method = 'bonferroni', alpha = 0.5)[1]\n",
    "df['dataset'] = pd.Categorical(df['dataset'], [\"Homogeneous norms\", \"WVS\", \"PEW\"])\n",
    "df = df.sort_values(['dataset'])\n",
    "df"
   ]
  },
  {
   "cell_type": "code",
   "execution_count": 329,
   "id": "21b7565d",
   "metadata": {},
   "outputs": [
    {
     "name": "stderr",
     "output_type": "stream",
     "text": [
      "C:\\Users\\ajay_\\AppData\\Local\\Temp\\ipykernel_15556\\1379724283.py:3: UserWarning: FixedFormatter should only be used together with FixedLocator\n",
      "  g.set_xticklabels(rotation=30, labels = ['SBERT','GPT2','GPT2-MEDIUM','GPT2-LARGE','GPT3-QA','GPT3-PROBS'],ha = 'right')\n"
     ]
    },
    {
     "data": {
      "image/png": "[encoded data removed]",
      "text/plain": [
       "<Figure size 600x250 with 1 Axes>"
      ]
     },
     "metadata": {},
     "output_type": "display_data"
    }
   ],
   "source": [
    "\n",
    "fig, axes = plt.subplots(figsize = (6, 2.5))\n",
    "g = sns.barplot(data = df, x = 'model', y = 'r',hue = 'dataset' )\n",
    "g.set_xticklabels(rotation=30, labels = ['SBERT','GPT2','GPT2-MEDIUM','GPT2-LARGE','GPT3-QA','GPT3-PROBS'],ha = 'right')\n",
    "g.set(xlabel=\"Model\",ylabel=\"Pearson's r\", title=\"Replication\")\n",
    "sns.despine(left = False)\n",
    "\n",
    "    \n",
    "g.legend(loc='center left', bbox_to_anchor=(0,1.3))\n",
    "plt.show()"
   ]
  }
 ],
 "metadata": {
  "kernelspec": {
   "display_name": "Python 3 (ipykernel)",
   "language": "python",
   "name": "python3"
  },
  "language_info": {
   "codemirror_mode": {
    "name": "ipython",
    "version": 3
   },
   "file_extension": ".py",
   "mimetype": "text/x-python",
   "name": "python",
   "nbconvert_exporter": "python",
   "pygments_lexer": "ipython3",
   "version": "3.8.18"
  }
 },
 "nbformat": 4,
 "nbformat_minor": 5
}
